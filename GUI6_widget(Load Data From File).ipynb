{
 "cells": [
  {
   "cell_type": "markdown",
   "metadata": {},
   "source": [
    "**GOAL**\n",
    "    1. 대량데이터 처리 방식을 이해함\n",
    "    2. 리스트박스의 선택에 반응처리 할 수 있음\n",
    "    3. 스크롤바와 다른 widget을 연동처리 할 수 있음\n",
    "    4. 텍스트박스의 특징과 tag를 활용할 수 있음\n",
    "**Contents**\n",
    "    1. listbox widget\n",
    "    2. 파일로부터 데이터 적재하기\n",
    "    3. scrollbar widget"
   ]
  },
  {
   "cell_type": "markdown",
   "metadata": {},
   "source": [
    "### Listbox\n",
    "\n",
    "- w = Listbox(master, option, ...)\n",
    "- 여러 개의 텍스트 항목을 줄 단위로 표시하고 사용자가 선택할 수 있도록 하는 위젯\n",
    "- 옵션은 다음과 같음\n",
    "    - activestyle: 선택된 항목의 표시 형식을 결정('underline', 'dotbox', 'none')\n",
    "    - listvariable: 리스트 박스의 제어 변수를 지정\n",
    "        - get() 메서드와 이 변수를 통해 텍스트 항목을 꺼낼 수 있고\n",
    "        - set() 메서드를 이용하여 새로운 항목으로 변경 가능\n",
    "    - selectmode: BROWSE, SINGLE < MULTIPLE, EXTENDED\n",
    "    - xscrollcommand, yscrollcommand: scrollbar 위젯과의 연결에 사용\n",
    "- 메서드는 다음과 같음\n",
    "    - xview(), yview(): 위젯과의 연결에 사용"
   ]
  },
  {
   "cell_type": "markdown",
   "metadata": {},
   "source": [
    "### 제어변수 활용해 Listbox 만들기"
   ]
  },
  {
   "cell_type": "code",
   "execution_count": null,
   "metadata": {},
   "outputs": [],
   "source": [
    "from tkinter import *\n",
    "win = Tk()\n",
    "v = StringVar()\n",
    "lbox = Listbox(win, listvariable = v)\n",
    "v.set('ㄱ', 'ㄴ', 'ㄷ', 'ㄹ', 'ㅁ', 'ㅂ')\n",
    "lbox.pack()\n",
    "win.mainloop()"
   ]
  },
  {
   "cell_type": "markdown",
   "metadata": {},
   "source": [
    "### 반복문 연동해 Listbox 만들기"
   ]
  },
  {
   "cell_type": "code",
   "execution_count": null,
   "metadata": {},
   "outputs": [],
   "source": [
    "from tkinter import *\n",
    "basedata=['가', '나', '다', '라', '마', '바', '사']\n",
    "win = Tk()\n",
    "lbl = Label(win, text='이름', relief=RAISED, bg='white')\n",
    "lbl.pack(fill=BOTH)\n",
    "\n",
    "lst = Listbox(win)\n",
    "lst.pack(side=LEFT, fill=Y)\n",
    "\n",
    "for data in basedata:\n",
    "      lst.insert(END, data)\n",
    "win.mainloop()"
   ]
  },
  {
   "cell_type": "markdown",
   "metadata": {},
   "source": [
    "### 파일로부터 읽어서 GUI 연동하기 / 리스트에 적재하기 \n",
    "\n",
    "- 대량의 데이터 취급에 용이"
   ]
  },
  {
   "cell_type": "code",
   "execution_count": null,
   "metadata": {},
   "outputs": [],
   "source": [
    "f = open('전화번호.txt', 'r')\n",
    "basedata = f.read()\n",
    "f.close()\n",
    "data = basedata.split('\\n')\n",
    "\n",
    "for j in range(len(data)):\n",
    "    person = data[j].split(',')\n",
    "    lst.insert(END, person)"
   ]
  },
  {
   "cell_type": "code",
   "execution_count": null,
   "metadata": {},
   "outputs": [],
   "source": [
    "#list에 적재하기\n",
    "def read_from_file():\n",
    "    f = open('전화번호.txt', 'r')\n",
    "    basedata = f.read()\n",
    "    f.close()\n",
    "    data = basedata.split('\\n')\n",
    "    for j in range(len(data)):      \n",
    "        person = data[j].split(',')  \n",
    "        lst.insert(END, person)  \n",
    "\n",
    "def form_setting():\n",
    "    global lst, lbl\n",
    "    win = Tk()\n",
    "    lbl = Label(win, text='전화번호', relief=RAISED, bg='white')\n",
    "    lbl.pack(fill=BOTH)\n",
    "\n",
    "    lst = Listbox(win, width=60)\n",
    "    lst.pack(side=LEFT, fill=Y)\n",
    "    return win \n",
    "\n",
    "main = form_setting()\n",
    "read_from_file()\n",
    "main.mainloop"
   ]
  },
  {
   "cell_type": "markdown",
   "metadata": {},
   "source": [
    "### Listbox에서 선택에 반응\n",
    "\n",
    "- lst.curselection() 메서드: 선택한 요소의 라인 번호를 반환(튜플)\n",
    "- lst.get(index) 메서드: 주어진 index에 해당하는 값 반환"
   ]
  },
  {
   "cell_type": "code",
   "execution_count": null,
   "metadata": {},
   "outputs": [],
   "source": [
    "#선택확인 버튼을 누르면 레이블에 내용이 출력되는 아웃풋\n",
    "from tkinter import *\n",
    "\n",
    "def read_from_file():\n",
    "    f = open('전화번호.txt', 'r') #cur_directory에 txt. 파일이 있어야\n",
    "    basedata = f.read()\n",
    "    f.close()\n",
    "    data = basedata.split('\\n')\n",
    "    for j in range(len(data)):      \n",
    "        person = data[j].split(',')  \n",
    "        lst.insert(END, person) #맨 마지막에 data를 계속 추가\n",
    "\n",
    "def form_setting():\n",
    "    global lst, lbl\n",
    "    win = Tk()\n",
    "    lbl = Label(win, text='이름', relief=RAISED, bg='white')\n",
    "    lbl.pack(fill=BOTH)\n",
    "    lst = Listbox(win, width=60)\n",
    "    lst.pack(side=LEFT, fill=Y)\n",
    "    btn = Button(win, text='선택 확인', command= select_one)\n",
    "    btn.pack(anchor=N) #ANCHOR는 선택 문자열이 있는 경우, 그 앞에 추가가 됨\n",
    "    return win\n",
    "\n",
    "def select_one():\n",
    "    try:\n",
    "        sel = lst.curselection()\n",
    "        one = lst.get(sel)\n",
    "        s = str(sel[0])+ ' 번 -->' + str(one)\n",
    "        lbl.configure(text= s)\n",
    "    except:\n",
    "        return\n",
    "    \n",
    "main = form_setting()\n",
    "read_from_file()\n",
    "main.mainloop"
   ]
  },
  {
   "cell_type": "markdown",
   "metadata": {},
   "source": [
    "### Scrollbar\n",
    "\n",
    "- w = Scrollbar(master, option, ...)\n",
    "- Listbox, Text, Canvas 등과 연결하여 스크롤 콘트롤 위젯을 구현하는 데 사용함\n",
    "- 옵션은 다음과 같음\n",
    "    - command: 스크롤 발생 시 실해할 함수 지정\n",
    "    - jump: Command 콜백 호출 방식 지정(즉 매 단계마다 / 주기마다 를 지정 가능, 드래그 시 매번 0, 놓을 때 1)\n",
    "    - orient: 가로세로 스크롤타입 지정(HORIZONTAL, VERTICAL)\n",
    "    - throughcolor: 슬라이더 색상\n",
    "- 메서드는 다음과 같음\n",
    "    - set(): 다른 위젯과 연결 시 다른 위젯의 xscroll, yscroll이 메서드에 설정됨"
   ]
  },
  {
   "cell_type": "markdown",
   "metadata": {},
   "source": [
    "### scrollbar와 다른 위젯의 연동 방법\n",
    "\n",
    "- 여기서는 Listbox와 연결\n",
    "- 1. List의 yscrollcommand에 scrollbar.set\n",
    "- 2. Scrollbar command = List.yview"
   ]
  },
  {
   "cell_type": "code",
   "execution_count": null,
   "metadata": {},
   "outputs": [],
   "source": [
    "from tkinter import *\n",
    "master = Tk()\n",
    "\n",
    "sbar = Scrollbar(master)\n",
    "sbar.pack(side = RIGHT, fill = Y)\n",
    "lbox = Listbox(master, yscrollcommand = sbar.set)\n",
    "for i in range(1000):\n",
    "    lbox.insert(END, str(i))\n",
    "    lbox.pack(side = LEFT, fill = BOTH)\n",
    "sbar.config(command = lbox.yview) #세로 방향 스크롤\n",
    "mainloop()"
   ]
  },
  {
   "cell_type": "markdown",
   "metadata": {},
   "source": [
    "### Text\n",
    "\n",
    "- w = Text(master, option, ...)\n",
    "- 여러줄 텍스트를 입력 및 편집할 수 있는 위젯\n",
    "- 옵션은 다음과 같음\n",
    "    - spacing, Tabs, Undo, maxuno, wrap(단어 또는 문자 줄바꿈 지정), xscrollcommand, yscrollcommand(수평 수직 스크롤 설정(scrollbar의 .set() 메서드 사용))\n",
    "- 메서드는 다음과 같음\n",
    "    - compare(idx1, op, idx2): idx1과 idx2의 위치값 비교\n",
    "    - delete(idx1, idx2=None): idx~idx까지의 문자 삭제\n",
    "    - get(idx1, idx2=None): idx1~idx2-1까지의 문자열을 반환\n",
    "    - tag_add(tagname, idx1, idx2=None)\n",
    "- 문자 입력 위치 지정자는 다음과 같음\n",
    "    - 'line.column'\n",
    "    - 'line.end'\n",
    "    - INSERT\n",
    "    - END\n",
    "    - CURRENT\n",
    "    - SEL_FIRST\n",
    "    - SEL_LAST"
   ]
  },
  {
   "cell_type": "code",
   "execution_count": null,
   "metadata": {},
   "outputs": [],
   "source": [
    "from tkinter import *\n",
    "\n",
    "win = Tk()\n",
    "\n",
    "fr = Frame(win)\n",
    "tx = Text(fr,width=40)\n",
    "tx.pack(side=LEFT)\n",
    "\n",
    "sc = Scrollbar(fr)\n",
    "sc.pack(side=RIGHT, fill=Y)\n",
    "sc.config(command=tx.yview)\n",
    "\n",
    "tx.config(yscrollcommand=sc.set)\n",
    "\n",
    "fr.pack(side='left', fill='y')\n",
    "\n",
    "win.geometry(\"300x200\")\n",
    "win.mainloop()"
   ]
  },
  {
   "cell_type": "markdown",
   "metadata": {},
   "source": [
    "### tag\n",
    "\n",
    "- 특정 문자나 단어에 표식을 붙여 글꼴, 색상, 크기, 함수호출 등을 효율화하는 것\n",
    "- 메서드와 작업 순서는 다음과 같음\n",
    "- 1. tag_add(tagname, idx1, idx2=None)\n",
    "- 2. tag_config(tagname, 옵션)\n",
    "- 3. tag_bind(tagname, 이벤트타입, 함수)"
   ]
  },
  {
   "cell_type": "code",
   "execution_count": null,
   "metadata": {},
   "outputs": [],
   "source": [
    "from tkinter import *\n",
    "win = Tk()\n",
    "txt = Text(win)\n",
    "\n",
    "txt.insert(INSERT, '나는야 당분인간')\n",
    "txt.insert(END, '당분을 너무 많이 먹어서')\n",
    "txt.tag_add('being', '1.0', '1.3') #첫줄 0번, 첫줄 3-1번까지 태그가 형성됨\n",
    "txt.tag_add('many', '1.12', '1.17')\n",
    "\n",
    "txt.insert(INSERT, '설탕 칼로리 바로가기', 'a')\n",
    "txt.insert(INSERT, '당분간입니다', 'b')\n",
    "txt.pack()\n",
    "\n",
    "txt.tag_config('being', background='yellow', foreground='blue', font='굴림 14 bold')\n",
    "txt.tag_config('many', background='red', foreground='white', font='굴림 18 bold')\n",
    "txt.tag_config('a', foreground='blue', underline=1)\n",
    "txt.tag_config('b', background='green', foreground='white')\n",
    "win.mainloop()"
   ]
  },
  {
   "cell_type": "code",
   "execution_count": null,
   "metadata": {},
   "outputs": [],
   "source": [
    "#tag/위치지정자/메서드 등 활용 실습\n",
    "from tkinter import *\n",
    "import webbrowser\n",
    "win = Tk()\n",
    "def m_enter(e):\n",
    "    print('마우스 enter')\n",
    "def m_leave(e):\n",
    "    print('마우스 leave')\n",
    "def m_click(e):\n",
    "    print('마우스 click')\n",
    "txt = Text(win)\n",
    "txt.insert(INSERT, '나는야 당분인간')\n",
    "txt.insert(END, '당분을 너무 많이 먹어서')\n",
    "txt.tag_add('being', '1.0', '1.3')\n",
    "txt.tag_add('many', '1.12', '1.17')\n",
    "txt.insert(INSERT, '설탕 칼로리 바로가기', 'a')\n",
    "txt.insert(INSERT, '당분간입니다', 'b')\n",
    "txt.pack()\n",
    "txt.tag_config('being', background='yellow', foreground='blue', font='굴림 14 bold')\n",
    "txt.tag_config('many', background='red', foreground='white', font='굴림 18 bold')\n",
    "txt.tag_config('a', foreground='blue', underline=1)\n",
    "txt.tag_config('b', background='green', foreground='white')\n",
    "txt.tag_bind('a', '<Enter>', m_enter)\n",
    "txt.tag_bind('a', '<Button-1>', lambda e:webbrowser.open('https://www.google.com/search?q=sugar+calories&oq=sugar+calo&aqs=chrome.0.0j69i57j0l6.4439j0j9&sourceid=chrome&ie=UTF-8'))\n",
    "txt.tag_bind('being', '<Enter>', m_enter)\n",
    "txt.tag_bind('many', '<Leave>', m_leave)\n",
    "txt.tag_bind('being', '<Button-1>', m_click)\n",
    "txt.config(cursor='arrow')\n",
    "win.mainloop()"
   ]
  },
  {
   "cell_type": "markdown",
   "metadata": {},
   "source": [
    "### 정리\n",
    "\n",
    "- Scrollbar 위젯과 연결시 xscrollcommand 또는 yscrollcommand를 사용함\n",
    "- Text의 delete() 메서드는 삭제 구간을 지정해서 사용할 수 있음\n",
    "- tag란 특정 문자나 단어 등 문자열에 표식을 붙여 색상, 글꼴, 크기 등의 설정과 함수 호출을 효율화함\n",
    "- .curselection()은 Listbox의 나열 항목 중 사용자가 선택한 항목을 반환하는 메서드임"
   ]
  }
 ],
 "metadata": {
  "kernelspec": {
   "display_name": "Python 3",
   "language": "python",
   "name": "python3"
  },
  "language_info": {
   "codemirror_mode": {
    "name": "ipython",
    "version": 3
   },
   "file_extension": ".py",
   "mimetype": "text/x-python",
   "name": "python",
   "nbconvert_exporter": "python",
   "pygments_lexer": "ipython3",
   "version": "3.7.3"
  }
 },
 "nbformat": 4,
 "nbformat_minor": 2
}

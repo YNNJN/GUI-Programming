{
 "cells": [
  {
   "cell_type": "markdown",
   "metadata": {},
   "source": [
    "**GOAL**\n",
    "    1. for문과 연동하여 위젯 배치를 단순화할 수 있음\n",
    "    2. widget을 리스트화하여 불러오거나 반응할 수 있음\n",
    "    3. widget 값의 validation 또는 tracing을 할 수 있음\n",
    "**Contents**\n",
    "    1. for문을 활용한 widget 배치의 효율화 (단순배치, 변수활용, 인덱스 전송 등)\n",
    "    2. widget 값의 추적\n",
    "    3. widget 값의 validation"
   ]
  },
  {
   "cell_type": "markdown",
   "metadata": {},
   "source": [
    "### for loop 활용 위젯 배치\n",
    "\n",
    "- for문을 통해 코드 최적화 가능"
   ]
  },
  {
   "cell_type": "code",
   "execution_count": null,
   "metadata": {},
   "outputs": [],
   "source": [
    "#단순출력의 경우\n",
    "from tkinter import *\n",
    "win = Tk()\n",
    "\n",
    "titles = ('이름', '전화번호', '주소', '이메일', '소속', '회사전화')\n",
    "for i in range(6):\n",
    "    lbl = Label(win, padx = 20, text = titles[i])\n",
    "    lbl.grid(row = i*2, column = 0, sticky = 'nw')"
   ]
  },
  {
   "cell_type": "code",
   "execution_count": null,
   "metadata": {},
   "outputs": [],
   "source": [
    "#Entry 추가 (변수가 필요한 경우, 즉 나중에 접근이 필요한 경우)\n",
    "tx = []\n",
    "for i in range(6):\n",
    "    tx.append(Entry(win, text = ''))\n",
    "    tx[i].grid(row = i*2, column = 1, columnspan = 2, padx = 40, sticky = 'new')"
   ]
  },
  {
   "cell_type": "code",
   "execution_count": null,
   "metadata": {},
   "outputs": [],
   "source": [
    "#button 추가 (index 전송이 필요한 경우)\n",
    "def on_click(idx):\n",
    "    if idx == 0:\n",
    "        print('add')\n",
    "    elif idx == 1:\n",
    "        print('update')\n",
    "    elif idx == 2:\n",
    "        print('delete')\n",
    "    elif idx == 3:\n",
    "        print('search')\n",
    "    elif idx == 4:\n",
    "        print('close')\n",
    "\n",
    "titles = '추가', '수정', '삭제', '찾기', '종료'\n",
    "btn = []\n",
    "for i in range(5):\n",
    "    #btn.append(Button(win, width = 12, height = 2, text = titles[i], command = on_click(i))) #할당하는 코드 아닌 실행하는 코드 #이 행은 한 번만 실행이 됨. 반복문이 끝까지 돌기 위해 람다 식이  필요\n",
    "    #btn.append(Button(win, width = 12, height = 2, text = titles[i], command = lambda: on_click(i))) #이 행은 마지막 결과 값만 저장됨\n",
    "    btn.append(Button(win, width = 12, height = 2, text = titles[i], command = lambda p = i: on_click(p))) #i를 지역변수 p로 지정하고, p를 함수의 인자로 함\n",
    "    btn[i].grid(row = 10, column = i, padx = (20.0), pady = (45, 10), sticky = 'w')"
   ]
  },
  {
   "cell_type": "markdown",
   "metadata": {},
   "source": [
    "### widget 값 추적하기\n",
    "\n",
    "- 제어변수를 활용하여 위젯 값 추적 (trace() 메서드 활용)\n",
    "- v.trace(mode, callback)\n",
    "- mode는 다음과 같음\n",
    "    - 'r': 변수가 read될 때 콜백호출\n",
    "    - 'w': 변수가 write 될 때 콜백호출\n",
    "    - 'u': 변수가 삭제(unset)될 때 호출"
   ]
  },
  {
   "cell_type": "code",
   "execution_count": null,
   "metadata": {},
   "outputs": [],
   "source": [
    "#sv를 제어변수로 지정하고, 값에 변화가 발생하면 changed 함수를 처리함\n",
    "def changed(e,m,c):\n",
    "    print('제어변수 값 변경 발생')\n",
    "sv = StringVar()\n",
    "sv.trace('w', changed)\n",
    "ent = Entry(win, textvariable = sv)"
   ]
  },
  {
   "cell_type": "code",
   "execution_count": null,
   "metadata": {},
   "outputs": [],
   "source": [
    "#var를 제어변수로 지정하고, 값이 지정되면 callback 함수를 처리함\n",
    "def callback(*args):\n",
    "    print('variable changed!')\n",
    "var = StringVar()\n",
    "lbl = Label(win, text = '파이썬', textvariable = var).pack()\n",
    "var.trace('w', callback)\n",
    "var.set('hello') #헬로가 셋 되면서 w모드가 되고 -> callback 함수호출"
   ]
  },
  {
   "cell_type": "code",
   "execution_count": null,
   "metadata": {},
   "outputs": [],
   "source": [
    "#엔트리에 값이 입력되면 길이가 출력되는 아웃풋\n",
    "from tkinter import *\n",
    "\n",
    "def changed(e,m,c):\n",
    "    s = sv.get()\n",
    "    ln = len(s)\n",
    "    print(s, ln)  \n",
    "\n",
    "def form_setting():\n",
    "    global sv\n",
    "    win = Tk()\n",
    "    sv = StringVar()\n",
    "    sv.trace('w', changed)    \n",
    "    ent = Entry(win, textvariable= sv)\n",
    "    ent.pack()\n",
    "    ent.focus_set()\n",
    "    return win\n",
    "\n",
    "main = form_setting()\n",
    "main.mainloop()\n",
    "\n",
    "#추적 함수를 추가할 때는\n",
    "#sv.trace_add('write', callback)과 같이 씀"
   ]
  },
  {
   "cell_type": "markdown",
   "metadata": {},
   "source": [
    "### 유효성(validate) 검사\n",
    "\n",
    "- 위젯에 입력된 값이 적합한지 유효성을 검사하여 입력을 수용 또는 거부 가능\n",
    "- 대상은 Entry 위젯, ttk.combobox 위젯 등 validate라는 옵션 명이 있는 위젯 모두에 가능\n",
    "- 순서는 다음과 같음 \n",
    "    - 1. 검증 함수를 작성\n",
    "    - 2. register 메서드를 이용해 검증 함수를 등록\n",
    "    - 3. validate 옵션으로 검사 시기를 지정\n",
    "    - 4. validatecommand로 콜백함수와 옵션 지정"
   ]
  },
  {
   "cell_type": "code",
   "execution_count": null,
   "metadata": {},
   "outputs": [],
   "source": [
    "#검증 함수 작성\n",
    "def validate_routine(t):\n",
    "    lbl['text'] = t\n",
    "    return True\n",
    "#검증 함수 등록\n",
    "vcom = win.register(validate_routine)\n",
    "#검사 시기 지정\n",
    "e1 = Entry(win, bd = 5, validate = 'key', validatecommand = (vcom, '%S'))"
   ]
  },
  {
   "cell_type": "markdown",
   "metadata": {},
   "source": [
    "e1 = Entry(win, bd = 5, validate = **'key'**, validatecommand = (vcom, **'%S'**))에서\n",
    "- **검사 시기 옵션**은 다음과 같음\n",
    "    - focus: 포커스 얻거나 잃을 때 (focusin: 얻을때, focusout: 잃을때)\n",
    "    - key: 키 입력으로 위젯 내용 변경시\n",
    "    - all: 모든 상황\n",
    "    - none: 검사 해제\n",
    "- **유효성 검사 옵션**은 다음과 같음 ('이 값들을 전달받겠음' 의미)\n",
    "    - %i: 위치\n",
    "    - %P: 후문자열\n",
    "    - %s: 전문자열\n",
    "    - %S: 삽입 또는 삭제 문자열\n",
    "    - %V: 상기 발생 사유\n",
    "    - %W: 발생 위젯\n",
    "    "
   ]
  },
  {
   "cell_type": "code",
   "execution_count": null,
   "metadata": {},
   "outputs": [],
   "source": [
    "#엔트리 위젯에 값을 입력하면 레이블 박스에 값을 출력하는 아웃풋\n",
    "from tkinter import *\n",
    "win = Tk()\n",
    "\n",
    "def validate_routine(t ):\n",
    "    lbl['text']= t\n",
    "    return True\n",
    "\n",
    "win.title('샘플프로그램')\n",
    "vcom= win.register(validate_routine)\n",
    "e1 = Entry(win, bd =5, validate='key', validatecommand=(vcom, '%S'))\n",
    "e1.pack()\n",
    "lbl=Label(win, bg='red', fg='white', font='굴림 20 bold')\n",
    "lbl.pack(fill='both')\n",
    "e1.focus_force() \n",
    "win.mainloop()\n",
    "\n",
    "#대신 %i로 바꿔주면, 위치값이 출력됨\n",
    "#True값일 때만 입력을 받음"
   ]
  },
  {
   "cell_type": "code",
   "execution_count": null,
   "metadata": {},
   "outputs": [],
   "source": [
    "#엔트리 위젯에 숫자만 입력 가능하게 하는 아웃풋\n",
    "from tkinter import *\n",
    "win = Tk()\n",
    "\n",
    "def validate_routine(t ):\n",
    "    if t.isnumeric():\n",
    "         return True\n",
    "    else:\n",
    "         return False\n",
    "        \n",
    "win.title('샘플프로그램')\n",
    "vcom= win.register(validate_routine)\n",
    "e1 = Entry(win, bd =5, validate='key', validatecommand=(vcom, '%S'))\n",
    "e1.pack()\n",
    "lbl=Label(win, bg='red', fg='white', font='굴림 20 bold')\n",
    "lbl.pack(fill='both')\n",
    "e1.focus_force() \n",
    "win.mainloop()"
   ]
  },
  {
   "cell_type": "markdown",
   "metadata": {},
   "source": [
    "### 정리\n",
    "\n",
    "- 제어변수 trace() 메서드로 상태에 따른 처리가 가능함\n",
    "- 유효성 검사는 Entry와 같은 일부 widget에서 제공하는데, validate 옵션을 사용함\n",
    "- validate는 입력값을 검증할 때 사용하며, 입력값의 검증 조건도 부여할 수 있음\n"
   ]
  }
 ],
 "metadata": {
  "kernelspec": {
   "display_name": "Python 3",
   "language": "python",
   "name": "python3"
  },
  "language_info": {
   "codemirror_mode": {
    "name": "ipython",
    "version": 3
   },
   "file_extension": ".py",
   "mimetype": "text/x-python",
   "name": "python",
   "nbconvert_exporter": "python",
   "pygments_lexer": "ipython3",
   "version": "3.7.3"
  }
 },
 "nbformat": 4,
 "nbformat_minor": 2
}

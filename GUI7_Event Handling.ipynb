{
 "cells": [
  {
   "cell_type": "markdown",
   "metadata": {},
   "source": [
    "**GOAL**\n",
    "    1. 이벤트와 이벤트 구동방식에 대해 앎\n",
    "    2. widget의 이벤트에는 어떤 것이 있는지 앎\n",
    "    3. event handler를 작성할 수 있음\n",
    "    4. widget의 bind method를 사용하여 event와 event handler를 연결지을 수 있음\n",
    "**Contents**\n",
    "    1. widget event 종류(activate, deactivate, map, unmap, configure, destroy...)\n",
    "    2. event binding\n",
    "    3. event add"
   ]
  },
  {
   "cell_type": "markdown",
   "metadata": {},
   "source": [
    "### Intro\n",
    "\n",
    "- 어떤 일을 계속 감지하고 있다가 처리한다는 측면에서\n",
    "- validation, tracing, command=func 모두 이벤트 처리의 동작과 유사\n",
    "- 이에 binding과 handler의 개념을 추가하여 실습함\n",
    "\n",
    "\n",
    "\n",
    "### Event Handling\n",
    "\n",
    "- GUI OS 구동방식은 event에 기반\n",
    "- 운영 체제나 어플리케이션 입장에서 event는 사용자의 의도를 감지한 신호체계임\n",
    "    - 드래그, 버튼에 마우스 올라옴, 과 같은 이벤트가 발생 -> 특정 처리\n",
    "- 이러한 시그널을 활용하여 -> 사용자의 편리성을 높일 수 있음\n",
    "- 이벤트 구현 방식을 이해하고 개발해야\n",
    "\n",
    "\n",
    "\n",
    "#### 버튼 클릭 대응 방식의 한계\n",
    "- 사용자가 반드시 마우스 버튼을 눌러야만 작동\n",
    "- 발생 원인이 한 가지로 세심한 처리 불가\n",
    "- parameter가 없어서 단순 처리만 가능"
   ]
  },
  {
   "cell_type": "code",
   "execution_count": null,
   "metadata": {},
   "outputs": [],
   "source": [
    "from tkinter import *\n",
    "from tkinter import messagebox\n",
    "\n",
    "win = Tk()\n",
    "def ok_click():\n",
    "    na=txt.get()\n",
    "    lbl2.configure(text='당신의 이름은~~~~~~' + na + '입니다')\n",
    "    messagebox.showinfo('이름', na)\n",
    "\n",
    "lbl=Label(win, text='이 름 : ')\n",
    "lbl.grid(row=0, column=0)\n",
    "txt=Entry(win, bg='yellow')\n",
    "txt.grid(row=0, column=1)\n",
    "\n",
    "btn=Button(win, text='완 료', command=ok_click)\n",
    "btn.grid(row=0, column=2)\n",
    "\n",
    "lbl2=Label(win, text='당신의 이름은.....')\n",
    "lbl2.grid(row=2,column=0, columnspan=2, sticky=W)\n",
    "win.bind('<Return>', lambbda e: ok_click())\n",
    "txt.focus()\n",
    "win.mainloop()"
   ]
  },
  {
   "cell_type": "markdown",
   "metadata": {},
   "source": [
    "### Widget Events\n",
    "\n",
    "- 직접 발생 <>\n",
    "    - Activate: state가 활성 상태로 변경시(MAC)\n",
    "    - Deactivate: state가 비활성 상태로 바뀔 때(MAC)\n",
    "    - Map: 창이 오픈되거나 위젯이 팩될 때\n",
    "    - Unmap: 창이 클로징 또는 위젯이 언팩될 때\n",
    "    - Configure: 위젯의 사이즈가 변경될 때\n",
    "    - Destroy: 위젯 소멸시 (x버튼)\n",
    "    - Expose: 위젯의 가시성 변경시(색 또는 사이즈 변경될 때)\n",
    "    - Focusln: 포커스를 잃을 때\n",
    "    - FocusOut: 포커스를 잃을 때\n",
    "    - KeyPress, KeyRelease, Enter, Leave, Button 등: 키보드, 마우스 관련\n",
    "\n",
    "- virtual event(조작되어있음) <<>>\n",
    "    - ListboxSelect: 리스트 항목이 선택되었을 때\n",
    "    - Modified: 텍스트박스에서, 텍스트 등이 수정될 때"
   ]
  },
  {
   "cell_type": "markdown",
   "metadata": {},
   "source": [
    "### Event binding\n",
    "\n",
    "- w.bind(event_name, handler[,+])\n",
    "\n",
    "#### bind() 메서드\n",
    "- widget을 하나 이상의 event에 'binding'하는 데 사용\n",
    "- widget에 포커스가 있고 해당 이벤트가 발생할 때, 지정된 핸들러가 실행됨\n",
    "- 위젯 내용이나 환경의 변화, 키보드, 마우스, 타이머 등의 다양한 이벤트에 바인딩 할 수 있음\n",
    "- 동일한 사안에 대해 핸들러를 추가 바인딩 할 때 '+'를 사용"
   ]
  },
  {
   "cell_type": "code",
   "execution_count": null,
   "metadata": {},
   "outputs": [],
   "source": [
    "#이벤트 핸들러\n",
    "def character_handler(event): #괄호 안엔 핸들러, 콜백함수\n",
    "    ''' 처리문장 '''\n",
    "txt1.bind('k', character_handler) #이벤트 k와 이벤트 처리기 handler를 binding 함 #k가 눌리면 handler를 처리하라"
   ]
  },
  {
   "cell_type": "code",
   "execution_count": null,
   "metadata": {},
   "outputs": [],
   "source": [
    "#버튼과 구분(핸들러가 없음, 버튼은 자체가 다른 parameter가 필요 x)\n",
    "def click_event():\n",
    "    ''' 확인 버튼에 대한 작업 '''\n",
    "b = Button(win, text = '확인', command = click_event)"
   ]
  },
  {
   "cell_type": "code",
   "execution_count": null,
   "metadata": {},
   "outputs": [],
   "source": [
    "#키보드가 눌렸습니다\n",
    "from tkinter import *\n",
    "from tkinter import ttk\n",
    "\n",
    "def press_handler( e ):\n",
    "    lbl['text']= '키보드가 눌렸습니다.'\n",
    "\n",
    "win=Tk()\n",
    "lbl=ttk.Label(win, \n",
    "                    text='키보드를 누르세요', \n",
    "                    font='굴림 20')\n",
    "lbl.bind('<Key>', press_handler) #이벤트 이름은 꺽쇠 안에 문자열 형태로 들어감 #문자열 하나의 경우는 예외로, 꺽쇠 x\n",
    "lbl.pack()\n",
    "lbl.focus()\n",
    "win.mainloop()"
   ]
  },
  {
   "cell_type": "code",
   "execution_count": null,
   "metadata": {},
   "outputs": [],
   "source": [
    "#동일한 사안에 대해 핸들러를 추가 바인딩\n",
    "from tkinter import *\n",
    "from tkinter import ttk\n",
    "\n",
    "def press_handler(e):\n",
    "    lbl['text']= '키보드가 눌렸습니다.'\n",
    "\n",
    "def press_handler2( e):\n",
    "    lbl['background']='yellow'\n",
    "\n",
    "win=Tk()\n",
    "lbl=ttk.Label(win, \n",
    "                    text='키보드를 누르세요', \n",
    "                    font='굴림 20')\n",
    "lbl.bind('<Key>', press_handler)\n",
    "lbl.bind('<Key>', press_handler2, '+') #+로 추가 바인딩\n",
    "lbl.pack()\n",
    "lbl.focus()\n",
    "win.mainloop()"
   ]
  },
  {
   "cell_type": "code",
   "execution_count": null,
   "metadata": {},
   "outputs": [],
   "source": [
    "#레이블에 길이를 기록하는 아웃풋\n",
    "import tkinter as tk\n",
    "win = tk.Tk()\n",
    "text = tk.Text(win, width=40, height=20)\n",
    "text.pack(side='top', fill='both', expand=True)\n",
    "\n",
    "label = tk.Label(win, anchor='w', bg='red', fg='white')\n",
    "label.pack(side='bottom', fill='x')\n",
    "\n",
    "def Modif_event(event):\n",
    "    ln = len(text.get('1.0', 'end'))-1\n",
    "    label.configure(text=\"%s 글자\" % ln)\n",
    "    text.edit_modified(False) #flag 세팅 중요, 한 번 이상 처리하기 위해\n",
    "\n",
    "text.bind(\"<<Modified>>\", Modif_event)\n",
    "win.mainloop()"
   ]
  },
  {
   "cell_type": "code",
   "execution_count": null,
   "metadata": {},
   "outputs": [],
   "source": [
    "#엔트리 4개에 동일한 내용이 입력되고, 0번 행에 Focus되어 선택되는 아웃풋\n",
    "#textvariable과 Focusln 활용\n",
    "from tkinter import *\n",
    "win =Tk()\n",
    "sv=StringVar()\n",
    "\n",
    "def focus_event(e):\n",
    "    ent.select_range(0, len(sv.get()))\n",
    "\n",
    "ent = Entry(win, textvariable= sv)\n",
    "ent.pack()\n",
    "ent.bind('<FocusIn>', focus_event)\n",
    "\n",
    "ent2 = Entry(win, textvariable= sv)\n",
    "ent2.pack()\n",
    "\n",
    "ent3 = Entry(win, textvariable= sv)\n",
    "ent3.pack()\n",
    "\n",
    "ent4 = Entry(win, textvariable= sv)\n",
    "ent4.pack()\n",
    "\n",
    "win.mainloop()"
   ]
  },
  {
   "cell_type": "code",
   "execution_count": null,
   "metadata": {},
   "outputs": [],
   "source": [
    "#화살표 위아래로 조작하면 선택되어 레이블에 출력되는 아웃풋\n",
    "from tkinter import *\n",
    "data=['가', '나', '다', '라', '마', '바', '사', '아', '자']\n",
    "\n",
    "def select_one(a):\n",
    "    try:\n",
    "        sel = lst.curselection()\n",
    "        one=lst.get(sel)\n",
    "        lbl.configure(text='선택' + str(sel[0]) + '번...' + one) \n",
    "    except:\n",
    "        return\n",
    "win = Tk()\n",
    "lbl = Label(win, text='      ', bg='yellow', width=20)\n",
    "lbl.pack(side=TOP, anchor=W)\n",
    "lst = Listbox(win)\n",
    "lst.pack(side=LEFT, fill=Y)\n",
    "\n",
    "for dt in data:\n",
    "      lst.insert(END, dt)\n",
    "\n",
    "lst.bind('<<ListboxSelect>>', select_one)\n",
    "win.mainloop()"
   ]
  },
  {
   "cell_type": "markdown",
   "metadata": {},
   "source": [
    "### 정리\n",
    "\n",
    "- 버튼의 콜백 함수는 매개변수가 없어, 세심한 처리가 불가능함\n",
    "- event 프로그래밍을 활용하면 키보드나 마우스 등의 상태 변화에 따라 세밀한 처리 가능\n",
    "- event 프로그래밍은 크게 두 개의 구조를 형성함\n",
    "    - 1. 이벤트 발생시 처리할 문장을 정의함(이벤트 핸들러)\n",
    "    - 2. 이벤트를 바인딩함"
   ]
  }
 ],
 "metadata": {
  "kernelspec": {
   "display_name": "Python 3",
   "language": "python",
   "name": "python3"
  },
  "language_info": {
   "codemirror_mode": {
    "name": "ipython",
    "version": 3
   },
   "file_extension": ".py",
   "mimetype": "text/x-python",
   "name": "python",
   "nbconvert_exporter": "python",
   "pygments_lexer": "ipython3",
   "version": "3.7.3"
  }
 },
 "nbformat": 4,
 "nbformat_minor": 2
}

{
 "cells": [
  {
   "cell_type": "markdown",
   "metadata": {},
   "source": [
    "**GOAL**\n",
    "    1. 키보드 이벤트 특징을 이해하고 처리할 수 있음\n",
    "    2. 마우스의 이벤트 특징을 이해하고 처리할 수 있음\n",
    "    3. 타이머 이벤트를 활용할 수 있음\n",
    "**Contents**\n",
    "    1. keyboard event type\n",
    "    2. key name\n",
    "    3. event class\n",
    "    4. event modifiers"
   ]
  },
  {
   "cell_type": "markdown",
   "metadata": {},
   "source": [
    "### 키보드 이벤트\n",
    "\n",
    "- 타입은 다음과 같음\n",
    "    - '<Key>': 키 입력시 발생\n",
    "    - '<KeyPress>': 키 눌릴 때\n",
    "    - '<KeyRelease>': 키 뗄 때\n",
    "    \n",
    "- 키 네임은 다음과 같음\n",
    "    - 키 네임은 이벤트 핸들러의 event 인자 값으로 넘어옴\n",
    "    - Keysym: 각 키의 심볼릭 명(ex. esc)\n",
    "    - Keysym_num: 각 키의 키 심 넘버\n",
    "    - Keycode: 각 키의 키 코드\n",
    "    \n",
    "- 이벤트 핸들러에 인수로 전달된 데이터 확인하기(event class)\n",
    "    - def Myevent(ev) #ev는 이벤트 클래스 의미\n",
    "    - ev._____\n",
    "    - _____ 에 들어갈 데이터는 다음과 같음\n",
    "        - char\n",
    "        - keysym\n",
    "        - keysym_num\n",
    "        - keycode\n",
    "        - serial\n",
    "        - time\n",
    "        - type\n",
    "        - widget"
   ]
  },
  {
   "cell_type": "code",
   "execution_count": null,
   "metadata": {},
   "outputs": [],
   "source": [
    "from tkinter import *\n",
    "from tkinter import ttk\n",
    "\n",
    "def label_change(e):\n",
    "    lbl['text'] = e.keysym + ' ' + str(e.keysym_num) + ' ' + str(e.keycode)\n",
    "win = Tk()\n",
    "lbl = Label(win, text = '키보드를 누르세요', font = '굴림 20', width = 20)\n",
    "win.bind('<KeyPress>', label_change)\n",
    "lbl.pack()\n",
    "win.mainloop()"
   ]
  },
  {
   "cell_type": "markdown",
   "metadata": {},
   "source": [
    "- event modifiers(복합 키 표현시)\n",
    "- modifiers는 다음과 같음\n",
    "    - Alt\n",
    "    - Control\n",
    "    - Lock(caps lock on)\n",
    "    - Shift\n",
    "    - Double\n",
    "    - Triple\n",
    "- ex\n",
    "    - control c\n",
    "    - Alt-Shift-Home\n",
    "    - Control-Alt-Delete\n",
    "    - Contorol-1\n",
    "    - Triple-a"
   ]
  },
  {
   "cell_type": "code",
   "execution_count": null,
   "metadata": {},
   "outputs": [],
   "source": [
    "win.bind('<Control-Alt-Delete>', label_change) #복합 키를 누르면 label_change 핸들러로 점프"
   ]
  },
  {
   "cell_type": "code",
   "execution_count": null,
   "metadata": {},
   "outputs": [],
   "source": [
    "#완료버튼 클릭 대신 키보드 엔터 입력으로 처리할 수 있는 아웃풋\n",
    "from tkinter import *\n",
    "from tkinter import messagebox\n",
    "\n",
    "win = Tk()\n",
    "def ok_click():\n",
    "    na=txt.get()\n",
    "    lbl2.configure(text='당신의 이름은~~~~~~' + na + '입니다')\n",
    "\n",
    "lbl=Label(win, text='이 름 : ').grid(row=0, column=0)\n",
    "txt=Entry(win, bg='yellow')\n",
    "txt.grid(row=0, column=1)\n",
    "\n",
    "btn=Button(win, text='완 료', command=ok_click)\n",
    "btn.grid(row=0, column=2)\n",
    "\n",
    "lbl2=Label(win, text='')\n",
    "lbl2.grid(row=2,column=0, columnspan=2, sticky=W)\n",
    "txt.focus()\n",
    "win.bind('<KeyPress Return>', lambda e: ok_click())\n",
    "win.mainloop()"
   ]
  },
  {
   "cell_type": "markdown",
   "metadata": {},
   "source": [
    "### 마우스 이벤트\n",
    "\n",
    "- 타입은 다음과 같음\n",
    "    - '<Enter>': 마우스 포인터가 위젯에 들어갈 때\n",
    "    - '<Leave>': 떠날 때\n",
    "    - '<Motion>': 위젯 내에서 이동할 때"
   ]
  },
  {
   "cell_type": "code",
   "execution_count": null,
   "metadata": {},
   "outputs": [],
   "source": [
    "#이벤트의 네임은 다음과 같음 #다양하고 세밀한 처리 가능\n",
    "'''\n",
    "'<1>', '<2>', '<3>': 좌, 휠, 우버튼 클릭\n",
    "'<Double-1>', '<Double-2>', '<Double-3>': 좌, 휠, 우버튼이 더블클릭 될 때\n",
    "'<ButtonRelease-1>', '<ButtonRelease-2>', '<ButtonRelease-3>': 눌렸다가 놓일 때\n",
    "'<B1-Motion>', '<B2-Motion>', '<B3-Motion>': 누른 상태에서 끌~ 때\n",
    "'<MouseWheel>': 마우스 휠이 가동될 때\n",
    "'''"
   ]
  },
  {
   "cell_type": "markdown",
   "metadata": {},
   "source": [
    "- 이벤트 핸들러에 인수로 전달된 데이터 확인하기(event class)\n",
    "    - def Myevent(ev) #ev는 이벤트 클래스 의미\n",
    "    - ev._____\n",
    "    - _____ 에 들어갈 데이터는 다음과 같음\n",
    "        - num, 1 2 3\n",
    "        - x,y, 위젯의 왼쪽 상단 모서리에서 측정한 좌표\n",
    "        - x_root, y_root, 화면의 왼쪽 상단 모서리에서 측정한 마우스 포인터 좌표\n",
    "        - state, shift(1), control(4), alt(131072) 등 특수 키가 눌려있는지"
   ]
  },
  {
   "cell_type": "code",
   "execution_count": null,
   "metadata": {},
   "outputs": [],
   "source": [
    "#버튼을 끌어다 창 내에 위치시킬 수 있는 아웃풋\n",
    "from tkinter import *\n",
    "from tkinter import ttk\n",
    "\n",
    "def move_object(e):\n",
    "       e.widget.place(x = e.x_root-win.winfo_x()-8, #창의 두께 값을 뺄셈하여 위치 값을 보정\n",
    "                               y = e.y_root-win.winfo_y()-30)\n",
    "win = Tk()\n",
    "win.geometry('600x380+500+500')\n",
    "for c in range(6):\n",
    "    lab = ttk.Button(win, text = str(c))\n",
    "    lab.place(x = 0, y = c*30)\n",
    "    lab.bind('<B1-Motion>', move_object)\n",
    "\n",
    "win.mainloop()"
   ]
  },
  {
   "cell_type": "code",
   "execution_count": null,
   "metadata": {},
   "outputs": [],
   "source": [
    "#풍선 도움말, tooltip text 구현하는 아웃풋\n",
    "from tkinter import *\n",
    "from tkinter import ttk\n",
    "\n",
    "win = Tk()\n",
    "win.geometry('200x200')\n",
    "\n",
    "def show_tooltip(e):\n",
    "    lab1.place(x=20, y=30)\n",
    "def hide_tooltip(e):\n",
    "    lab1.place_forget()\n",
    "    \n",
    "b1 = ttk.Button(win, text='불러오기')\n",
    "b1.place(x=10,y=10, width=100)\n",
    "b1.bind('<Enter>', show_tooltip)\n",
    "b1.bind('<Leave>', hide_tooltip)\n",
    "\n",
    "lab1=Label(win, bg='white', text='파일로부터 불러옵니다', relief=SOLID,bd=1)\n",
    "lab1.place_forget()\n",
    "\n",
    "win.mainloop()"
   ]
  },
  {
   "cell_type": "code",
   "execution_count": null,
   "metadata": {},
   "outputs": [],
   "source": [
    "#마우스의 좌표 값을 출력하고, 마우스 위치의 버튼 안 밖 여부를 레이블에 출력하는 아웃풋\n",
    "from tkinter import *\n",
    "\n",
    "def trace_mouse(e):\n",
    "    lab1['text'] = '('+str(e.x)+','+str(e.y)+')'\n",
    "def inter_zone(e):\n",
    "    but1['text'] = t1\n",
    "def outer_zone(e):\n",
    "    but1['text'] = t2\n",
    "\n",
    "win = Tk()\n",
    "win.geometry('300x180+500+500')\n",
    "\n",
    "t1 = '버튼 위에 마우스 있음'\n",
    "t2 = '버튼밖에 마우스'\n",
    "lab1 = Label(win, font='굴림 14 bold')\n",
    "lab1.pack()\n",
    "\n",
    "but1 = Button(win, font='굴림 14 bold', text = t2)\n",
    "but1.pack()\n",
    "\n",
    "but1.bind('<Enter>', inter_zone)\n",
    "but1.bind('<Leave>', outer_zone)\n",
    "win.bind('<Motion>', trace_mouse)\n",
    "win.mainloop()"
   ]
  },
  {
   "cell_type": "code",
   "execution_count": null,
   "metadata": {},
   "outputs": [],
   "source": [
    "#마우스 클릭에 따라 레이블의 컬러가 바뀌는 아웃풋\n",
    "#서로 다른 위젯 간 핸들러를 공유할 수 있음\n",
    "from tkinter import *\n",
    "\n",
    "win = Tk()\n",
    "win.geometry('150x150')\n",
    "\n",
    "def in_event(e):\n",
    "     e.widget['bg']='yellow'\n",
    "def out_event(e):\n",
    "     e.widget['bg']='white'\n",
    "\n",
    "txt1 = Entry(win)\n",
    "txt1.grid(row=0, column=0)\n",
    "txt1.bind('<FocusIn>', in_event)\n",
    "txt1.bind('<FocusOut>', out_event)\n",
    "\n",
    "txt2= Entry(win)\n",
    "txt2.grid(row=1, column=0)\n",
    "txt2.bind('<FocusIn>', in_event)\n",
    "txt2.bind('<FocusOut>', out_event)"
   ]
  },
  {
   "cell_type": "markdown",
   "metadata": {},
   "source": [
    "### 타이머 이벤트\n",
    "\n",
    "- 특정 시점 또는 설정된 시간 간격으로 이벤트 발생\n",
    "- 모든 창 또는 위젯 클래스에서는 시간 이벤트 설정 메서드를 보유\n",
    "- 두 가지 메서드를 알아둘 것\n",
    "    - after(delay, function[, *paras]): delay(밀리초) 후에 함수를 호출함\n",
    "    - after_cancel(event_id): 이벤트를 취소함\n",
    "        - 이 때 event_id는 after(delay, function)을 의미"
   ]
  },
  {
   "cell_type": "code",
   "execution_count": null,
   "metadata": {},
   "outputs": [],
   "source": [
    "#1초마다 배경색이 바뀌는 아웃풋\n",
    "from tkinter import *\n",
    "switch= 0\n",
    "\n",
    "def change_color( ):\n",
    "    global switch\n",
    "    if switch:\n",
    "        win['background']='yellow'\n",
    "    else:\n",
    "        win['background']='green'\n",
    "        \n",
    "    lab1['text'] = win.cget('background')  \n",
    "    lab1.after(1000, change_color)    \n",
    "    switch= not switch\n",
    "    \n",
    "win = Tk()\n",
    "win.geometry('200x150')\n",
    "\n",
    "lab1 = Label(win, text = 'Waiting')\n",
    "lab1.pack()\n",
    "\n",
    "lab1.after(1000, change_color)\n",
    "\n",
    "win.mainloop()"
   ]
  },
  {
   "cell_type": "markdown",
   "metadata": {},
   "source": [
    "### 정리\n",
    "\n",
    "- 키보드나 마우스 이벤트 처리기에는 키문자값, 마우스 위치, 마우스 버튼 등 다양한 데이터가 전달됨. 이 값을 가지고 세심한 처리가 가능함\n",
    "- 이벤트가 발생하면 발생 환경과 관련된 세부 정보와 함께 해당 처리기로 점프가 이루어짐"
   ]
  }
 ],
 "metadata": {
  "kernelspec": {
   "display_name": "Python 3",
   "language": "python",
   "name": "python3"
  },
  "language_info": {
   "codemirror_mode": {
    "name": "ipython",
    "version": 3
   },
   "file_extension": ".py",
   "mimetype": "text/x-python",
   "name": "python",
   "nbconvert_exporter": "python",
   "pygments_lexer": "ipython3",
   "version": "3.7.3"
  }
 },
 "nbformat": 4,
 "nbformat_minor": 2
}

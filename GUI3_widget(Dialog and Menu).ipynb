{
 "cells": [
  {
   "cell_type": "markdown",
   "metadata": {},
   "source": [
    "**GOAL**\n",
    "    1. 버튼을 배치하고 버튼의 실행명령을 작성할 수 있음\n",
    "    2. file 처리 다이얼로그를 생성 및 처리할 수 있음\n",
    "    3. color 처리 다이얼로그를 생성 및 처리할 수 있음\n",
    "**Contents**\n",
    "    1. button의 배치\n",
    "    2. command 옵션과 처리기\n",
    "    3. file dialog\n",
    "    4. color dialog"
   ]
  },
  {
   "cell_type": "markdown",
   "metadata": {},
   "source": [
    "### Message\n",
    "\n",
    "- w = Message(master, option, ...)\n",
    "- 자동으로 줄바꿈되어 출력되는 것이 Label과의 차이\n",
    "\n",
    "### Frame\n",
    "\n",
    "- w = Frame(master, option, ...)\n",
    "- 다른 위젯을 그룹화하여 배치하는 일종의 컨테이너 역할\n",
    "- 지금까지의 실습에서 window라는 창을 레이블이나 버튼을 배치하는 컨테이너로 썼다면\n",
    "- 직접 창에 올리기보단 프레임에 올린 뒤 프레임을 창에 올리는 방식을 실무에서 선호\n",
    "\n",
    "### LabelFrame\n",
    "\n",
    "- w = LabelFrame(master, option, ...)\n",
    "- 레이블을 가진 프레임임\n",
    "- text 옵션, labelanchor 옵션 지님"
   ]
  },
  {
   "cell_type": "code",
   "execution_count": null,
   "metadata": {},
   "outputs": [],
   "source": [
    "#윈도우 창 안에 프레임, 프레임 안에 엔트리가 배정되는 아웃풋\n",
    "from tkinter import *\n",
    "win = Tk()\n",
    "lframe = LabelFrame(win, text = '이름', padx = 5, pady = 5)\n",
    "lframe.pack(padx = 10, pady = 10)\n",
    "e = Entry(lframe)\n",
    "e.pack()\n",
    "win.mainloop()"
   ]
  },
  {
   "cell_type": "markdown",
   "metadata": {},
   "source": [
    "### Button\n",
    "\n",
    "- w = Button(master, option = value, ...)\n",
    "- 응용 프로그램에 버튼 표시 (특정 명령 수행)\n",
    "- 텍스트나 이미지 표시 가능\n",
    "- 버튼에 함수 연결 가능 -> 클릭시 자동 호출\n",
    "- 옵션은 레이블의 메소드와 다수 중복됨\n",
    "- invoke() 메서드: 콜백 호출(지정된 함수를 실행함), 코드 상에서 누른 효과를 줌\n",
    "- flash() 메서드: 깜빡 (기본 색상과 activebackground)"
   ]
  },
  {
   "cell_type": "code",
   "execution_count": null,
   "metadata": {},
   "outputs": [],
   "source": [
    "from tkinter import *\n",
    "from tkinter import messagebox as m\n",
    "\n",
    "def btn_click():\n",
    "    lbl['text'] = 'have a nice day'\n",
    "    m.showinfo('인사완료', '인사를 마쳤습니다')\n",
    "    \n",
    "win=Tk()\n",
    "win.geometry('300x60')\n",
    "\n",
    "lbl=Label(win, text='hello python',  font='Helvetica 20')\n",
    "lbl.pack()\n",
    "\n",
    "btn=Button(win, text='눌러주세요',  command= btn_click, bg='red', fg='white')\n",
    "btn.pack(fill='x')"
   ]
  },
  {
   "cell_type": "markdown",
   "metadata": {},
   "source": [
    "### messagebox 모듈\n",
    "\n",
    "- 메시지 박스를 보여주거나 사용자 응답을 요구함\n",
    "- 모듈을 통해 다이얼로그 박스 관련 다양한 함수에 접근 가능\n",
    "- 사용법은 아래와 같음 \n",
    "    - 모듈 import: from tkinter import messagebox\n",
    "    - 모듈 통해 함수 call: res = messagebox.askyesno('종료확인', '정말 종료할까요')\n",
    "    - 사용자 응답에 따른 처리: if res = 'yes': ~else"
   ]
  },
  {
   "cell_type": "code",
   "execution_count": null,
   "metadata": {},
   "outputs": [],
   "source": [
    "from tkinter import *\n",
    "from tkinter import messagebox as m\n",
    "\n",
    "window = Tk()\n",
    "window.title('메시지박스 테스트')\n",
    "window.geometry('350x200')\n",
    "\n",
    "def clicked():\n",
    "      m.showinfo('저장확인', '저장되었습니다.')\n",
    "      m.showwarning('용량부족', '저장공간이 부족합니다.')  \n",
    "      m.showerror('에러발생', '에러가 발생했습니다. 종료합니다.')    \n",
    "      res = m.askquestion('저장확인','정말 덮어쓰시겠습니까?') #res에 T/F로 결과값이 되돌아오니, 각각 조건문으로 처리가 가능함\n",
    "      res = m.askyesno('종료확인','정말 종료하시겠습니까?')\n",
    "      res = m.askyesnocancel('Message title','Message content')\n",
    "      res = m.askokcancel('Message title','Message content')\n",
    "      res = m.askretrycancel('Message title','Message content')\n",
    "    \n",
    "btn = Button(window,text='Click here', command=clicked)\n",
    "btn.grid(column=0,row=0)\n",
    "window.mainloop()\n"
   ]
  },
  {
   "cell_type": "markdown",
   "metadata": {},
   "source": [
    "### filedialog 모듈\n",
    "\n",
    "- 다음의 메서드를 지님\n",
    "    - fname = filedialog.askopenfilename(filetypes)\n",
    "    - fname = filedialog.asksavesfilename(filetypes)\n"
   ]
  },
  {
   "cell_type": "code",
   "execution_count": null,
   "metadata": {},
   "outputs": [],
   "source": [
    "from tkinter import filedialog\n",
    "\n",
    "f = (('Template files', '*.tplate'), #앞은 사용자에게 설명할 문자열, 뒤는 실제 파일타입\n",
    "        ('HTML files', '*.html;*.htm'),\n",
    "         ('All files', '*.*'))\n",
    "\n",
    "fileName = filedialog.askopenfilename(filetypes = f)"
   ]
  },
  {
   "cell_type": "markdown",
   "metadata": {},
   "source": [
    "### colorchooser 모듈\n"
   ]
  },
  {
   "cell_type": "code",
   "execution_count": null,
   "metadata": {},
   "outputs": [],
   "source": [
    "from tkinter import colorchooser\n",
    "c = colorchooser.askcolor()"
   ]
  },
  {
   "cell_type": "code",
   "execution_count": null,
   "metadata": {},
   "outputs": [],
   "source": [
    "#파일을 불러오고 또한 바탕색을 변경할 수 있는 아웃풋\n",
    "import tkinter as tk\n",
    "from tkinter import filedialog\n",
    "from tkinter import colorchooser\n",
    "\n",
    "win = tk.Tk()\n",
    "\n",
    "def open_click():\n",
    "    s= (('텍스트파일', '*.txt'),)\n",
    "    fname = filedialog.askopenfilename(filetype=s)\n",
    "    if fname != '':\n",
    "       f = open(fname,'r')\n",
    "       data=f.read()\n",
    "       tx.insert('insert',data)\n",
    "\n",
    "def color_click():\n",
    "    color= colorchooser.askcolor()\n",
    "    tx['bg']=color[1] \n",
    "tx = tk.Text(win, width=80, height=20)\n",
    "tx.pack(side='top' , fill='both', expand=True)\n",
    "btn=tk.Button(win, text= '파일불러오기', command=open_click)\n",
    "btn.pack()\n",
    "\n",
    "btn2=tk.Button(win, text= '바탕색 변경', command=color_click)\n",
    "btn2.pack()\n",
    "win.mainloop()"
   ]
  },
  {
   "cell_type": "markdown",
   "metadata": {},
   "source": [
    "### Menu\n",
    "\n",
    "- w = Menu(mb, option, ...)\n",
    "- 드롭다운식 메뉴를 제공\n",
    "- Menubutton(또는 상위메뉴)의 하위개념임. 상위를 클릭하면 나타남\n",
    "- 다음의 옵션을 지님\n",
    "    - tearoff: 메뉴 뜯어내기 가능(1)/불가(0) 설정\n",
    "    - tearoffcommand: 메뉴 뜯어낼 때 알림 받기\n",
    "    - command: 메뉴 선택시 실시할 함수(callback) 지정\n",
    "- 메뉴 타입은 다음과 같음\n",
    "    - cascade(서브메뉴 있음), command(일반), Checkbutton, Radiobutton, separator(분리바 있음)\n",
    "- 생성 및 삭제 메소드를 지님\n",
    "    - .add(kind, coption), .delete(index), .entryconfig(index, state)"
   ]
  },
  {
   "attachments": {
    "menutype.jpg": {
     "image/jpeg": "[encoded data removed]"
    }
   },
   "cell_type": "markdown",
   "metadata": {},
   "source": [
    "![menutype.jpg](attachment:menutype.jpg)"
   ]
  },
  {
   "cell_type": "code",
   "execution_count": null,
   "metadata": {},
   "outputs": [],
   "source": [
    "#메인 메뉴 넣기\n",
    "#메뉴객체 생성-생성된 메뉴객체에 메뉴 추가-창에 등록\n",
    "from tkinter import *\n",
    "win = Tk()\n",
    "mbar = Menu(win)\n",
    "mbar.add_cascade(label = '파일')\n",
    "mbar.add_cascade(label = '편집')\n",
    "mbar.add_cascade(label = '도움말')\n",
    "win['menu'] = mbar\n",
    "win.mainloop()"
   ]
  },
  {
   "cell_type": "code",
   "execution_count": null,
   "metadata": {},
   "outputs": [],
   "source": [
    "#서브메뉴까지 넣기\n",
    "from tkinter import *\n",
    "win = Tk()\n",
    "\n",
    "def menu_click():\n",
    "    print('메뉴를 선택하셨습니다.')\n",
    "\n",
    "mbar = Menu(win)\n",
    "\n",
    "fmenu = Menu(mbar, tearoff=0)\n",
    "fmenu.add_command(label='Open', command=menu_click)\n",
    "fmenu.add_command(label='Save', command=menu_click,\n",
    "                            accelerator='Ctrl+S')\n",
    "fmenu.add_separator()\n",
    "fmenu.add_command(label='Exit', command=menu_click)\n",
    "mbar.add_cascade(label='파일', menu=fmenu)\n",
    "\n",
    "win.config(menu=mbar) #win['menu'] = mbar과 동치 #config로 접근 & key로 접근 두 방법을 기억\n",
    "win.bind_all('<Control s>', menu_click)\n"
   ]
  },
  {
   "cell_type": "markdown",
   "metadata": {},
   "source": [
    "### 정리\n",
    "\n",
    "- Button의 command 옵션에 실행할 함수를 지정하면, 특정 함수를 실행시킬 수 있음 \n",
    "- tkinter에서는 Menu 또는 MenuButton 등 메뉴 관련 다양한 widget을 제공함\n",
    "- tkinter의 filedialog, colorchooser 등을 사용하면 파일 선택과 컬러 선택 다이얼로그를 구현 가능"
   ]
  }
 ],
 "metadata": {
  "kernelspec": {
   "display_name": "Python 3",
   "language": "python",
   "name": "python3"
  },
  "language_info": {
   "codemirror_mode": {
    "name": "ipython",
    "version": 3
   },
   "file_extension": ".py",
   "mimetype": "text/x-python",
   "name": "python",
   "nbconvert_exporter": "python",
   "pygments_lexer": "ipython3",
   "version": "3.7.3"
  }
 },
 "nbformat": 4,
 "nbformat_minor": 2
}

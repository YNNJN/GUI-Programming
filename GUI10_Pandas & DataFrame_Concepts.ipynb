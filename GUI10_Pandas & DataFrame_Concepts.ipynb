{
 "cells": [
  {
   "cell_type": "markdown",
   "metadata": {},
   "source": [
    "**GOAL**\n",
    "    1. 파이썬 데이터분석도구를 이해함\n",
    "    2. pandas의 DataFrame을 생성할 수 있음\n",
    "    3. DataFrame의 row와 column의 생성 및 추가, 삭제 등을 처리할 수 있음\n",
    "    4. 요약통계 및 각 요소를 이해하고, 각각을 메서드로 호출할 수 있음\n",
    "    5. 조건을 주어 데이터를 filtering 처리 할 수 있음\n",
    "**Contents**\n",
    "    1. pandas 소개\n",
    "    2. DataFrame 구조 이해\n",
    "    3. DataFrame 생성하기\n",
    "    4. 수치로 변환, 반올림, 명칭 변경, 칼럼의 추가, 삭제, 연산 등\n",
    "    5. 조건을 이용한 filtering"
   ]
  },
  {
   "cell_type": "markdown",
   "metadata": {},
   "source": [
    "### pandas\n",
    "\n",
    "- wesmckinney가 2009년 공개\n",
    "- 데이터 분석능력을 겸비한 강력한 데이터 조작도구\n",
    "- 데이터를 테이블 구조로 다루며, 데이터 연산, 집계, 병합, 정렬 등 다양한 메서드 제공\n",
    "\n",
    "#### DS를 위한 주요 파이썬 라이브러리\n",
    "\n",
    "- Numpy: 다차원 배열 및 행렬 대상 고급 수학 및 통계 연산\n",
    "- SciPy: 선형대수, 미분, 수치통합 등 과학적 연산\n",
    "- Pandas: 데이터 연산, 집계, 병합, 정렬 등 다양한 메서드를 제공하는 분석 도구\n",
    "- SciKit-Learn: 분류 회귀 클러스트링, ML 알고리즘 제공\n",
    "\n",
    "#### 시각화 라이브러리\n",
    "\n",
    "- matplotlib: histogram, bar, scatter 등 다양한 2D 기반의 plotting 라이브러리 제공\n",
    "- Seaborn: 고수준 통계그래픽 인터페이스 제공"
   ]
  },
  {
   "cell_type": "markdown",
   "metadata": {},
   "source": [
    "### pandas DataFrame\n",
    "\n",
    "- row와 column으로 이루어진 테이블 데이터 구조\n",
    "- 구성요소는 row, column, data"
   ]
  },
  {
   "cell_type": "markdown",
   "metadata": {},
   "source": [
    "#### DataFrame 만들기\n",
    "\n",
    "1. 리스트로 만들기\n",
    "2. 딕셔너리로 만들기\n",
    "3. 메서드를 통해 만들기(read_csv / read_excel)"
   ]
  },
  {
   "cell_type": "code",
   "execution_count": null,
   "metadata": {},
   "outputs": [],
   "source": [
    "#리스트로 만들기 \n",
    "import pandas as pd\n",
    "data = [['밍', 56, 67, 89],['맹', 23, 45, 67],['몽', 24, 57, 80],['뭉', 86, 95, 53]]\n",
    "df = pd.DataFrame(data, columns=['이름', '물리', '화학', '생물'])\n",
    "df\n",
    "#행과 열의 구조가 같아야"
   ]
  },
  {
   "cell_type": "code",
   "execution_count": null,
   "metadata": {},
   "outputs": [],
   "source": [
    "#딕셔너리로 만들기\n",
    "import pandas as pd\n",
    "date = {'이름': ['밍', '맹', '몽', '뭉'],\n",
    "            '물리': [56, 23, 24, 86], \n",
    "            '화학': [67, 45, 57, 95],\n",
    "            '생물': [89, 67, 80, 53]}\n",
    "df = pd.DataFrame(data)\n",
    "df"
   ]
  },
  {
   "cell_type": "code",
   "execution_count": null,
   "metadata": {},
   "outputs": [],
   "source": [
    "#메서드를 통해 만들기 \n",
    "df = read_csv('tips.csv')\n",
    "df = read_excel('sample.slsx')"
   ]
  },
  {
   "cell_type": "markdown",
   "metadata": {},
   "source": [
    "#### 수치형 문자 숫자로 바꾸기\n",
    "\n",
    "- 여러 필드를 한번에\n",
    "    - df = df.apply(pd.to_numeric, errors = 'ignore') #이름 문자열로 인한 에러는 무시\n",
    "- 특정 필드만 변경\n",
    "    - df['물리'] = pd.to_numeric(df['물리'])\n",
    "    - df['물리'] = df['물리'].apply(pd.to_numeric)\n",
    "    - df[['물리', '화학']] = df[['물리', '화학']].apply(pd.to_numeric)"
   ]
  },
  {
   "cell_type": "markdown",
   "metadata": {},
   "source": [
    "#### 데이터 견본 보기\n",
    "\n",
    "- 견본 보기\n",
    "    - df.head(2)\n",
    "    - df.tail(3)\n",
    "\n",
    "- 데이터 구조(행렬)를 봄\n",
    "    - df.shape"
   ]
  },
  {
   "cell_type": "markdown",
   "metadata": {},
   "source": [
    "#### 기본 요약 통계 보기\n",
    "\n",
    "- df.describe(): 요약 통계를 냄\n",
    "- df.mean()\n",
    "- df.quantile()"
   ]
  },
  {
   "cell_type": "markdown",
   "metadata": {},
   "source": [
    "#### column 추가/연산\n",
    "\n"
   ]
  },
  {
   "cell_type": "code",
   "execution_count": null,
   "metadata": {},
   "outputs": [],
   "source": [
    "df['총점'] = df['물리'] + df['화학'] + df['생물']\n",
    "df['평균'] = df['총점']/3\n",
    "df"
   ]
  },
  {
   "cell_type": "code",
   "execution_count": null,
   "metadata": {},
   "outputs": [],
   "source": [
    "df['총점'] = df.sum(axis = 1) #가로평균, 열을 축으로 해서 결과에 반영 #세로평균은 axis=0\n",
    "df['평균'] = df[['물리', '화학', '생물']].mean(axis = 1)\n",
    "df"
   ]
  },
  {
   "cell_type": "code",
   "execution_count": null,
   "metadata": {},
   "outputs": [],
   "source": [
    "#컬럼 추가\n",
    "df.assign(추가 컬럼명 = [값..])"
   ]
  },
  {
   "cell_type": "markdown",
   "metadata": {},
   "source": [
    "#### 소수점 이하 자릿수\n",
    "\n",
    "- 여러 필드를 한 번에 \n",
    "    - df = df.round(2)\n",
    "- 특정 필드만 변경\n",
    "    - df = df.round({'평균':2})"
   ]
  },
  {
   "cell_type": "markdown",
   "metadata": {},
   "source": [
    "#### 컬럼 변경\n",
    "\n",
    "- 컬럼 명칭 변경\n",
    "    - df = df.rename(columns ={'물리':'정보', '총점':'합계'})\n",
    "- index를 특정 컬럼으로 변경\n",
    "    - df = df.set_index('이름')"
   ]
  },
  {
   "cell_type": "markdown",
   "metadata": {},
   "source": [
    "#### filtering"
   ]
  },
  {
   "cell_type": "code",
   "execution_count": null,
   "metadata": {},
   "outputs": [],
   "source": [
    "df2 = df[df.합계 >= 170]\n",
    "df2"
   ]
  },
  {
   "cell_type": "code",
   "execution_count": null,
   "metadata": {},
   "outputs": [],
   "source": [
    "df['결과'] = ['합격' if x>=60 else '불합격' for x in df.평균]\n",
    "df"
   ]
  },
  {
   "cell_type": "code",
   "execution_count": null,
   "metadata": {},
   "outputs": [],
   "source": [
    "import numpy as np\n",
    "df['수상여부'] = np.where(df['평균'] >= 85, '수상', '-') #조건 만족 못하면 - 출력\n",
    "df"
   ]
  },
  {
   "cell_type": "markdown",
   "metadata": {},
   "source": [
    "#### 컬럼 추가/삭제\n",
    "\n",
    "- 컬럼 추가\n",
    "    - df = df.assign(번호=[1, 2, 3, 4])\n",
    "- 컬럼 삭제\n",
    "    - df.drop('수상여부', aixs=1, inplace = True) #inplace는 즉시 반영하라는 의미\n",
    "    - inplace 없이 다음과 같이 쓸 수도 있음\n",
    "        - df = df.drop(...)"
   ]
  },
  {
   "cell_type": "code",
   "execution_count": null,
   "metadata": {},
   "outputs": [],
   "source": [
    "#index를 '이름'에서 '번호'로 바꿈\n",
    "#1. 이름 컬럼을 추가\n",
    "a = df.index\n",
    "df = df.assign(이름 = a) #이름의 컬럼을 만들어줌\n",
    "df\n",
    "#2. 번호를 index로 함\n",
    "df = df.set_index('번호')\n",
    "df\n",
    "#3. 순서를 매긴 뒤 재구성\n",
    "cols = ['이름', '화학', '생물', '정보', '합계', '결과']\n",
    "df = df[cols]\n",
    "df"
   ]
  },
  {
   "cell_type": "markdown",
   "metadata": {},
   "source": [
    "### 정리\n",
    "\n",
    "- pandas는 데이터를 조작하고 분석할 수 있는 도구\n",
    "- 데이터를 테이블 구조로 다루며, 데이터 연산, 집계, 병합 등 다양한 메서드 제공\n",
    "- DataFrame에 칼럼을 추가하려면 assign 메서드를 사용함"
   ]
  }
 ],
 "metadata": {
  "kernelspec": {
   "display_name": "Python 3",
   "language": "python",
   "name": "python3"
  },
  "language_info": {
   "codemirror_mode": {
    "name": "ipython",
    "version": 3
   },
   "file_extension": ".py",
   "mimetype": "text/x-python",
   "name": "python",
   "nbconvert_exporter": "python",
   "pygments_lexer": "ipython3",
   "version": "3.7.3"
  }
 },
 "nbformat": 4,
 "nbformat_minor": 2
}

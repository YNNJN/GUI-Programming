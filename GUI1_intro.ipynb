{
 "cells": [
  {
   "cell_type": "markdown",
   "metadata": {},
   "source": [
    "**GOAL**\n",
    "    1. 파이썬 GUI 프로그래밍 절차를 이해함\n",
    "    2. 창을 생성할 수 있음\n",
    "    3. widget을 생성할 수 있음\n",
    "    4. widget의 옵션을 지정할 수 있음\n",
    "**Contents**\n",
    "    1. tkinter모듈 / importing\n",
    "    2. 창 생성하기\n",
    "    3. widget 생성 및 option 지정"
   ]
  },
  {
   "cell_type": "markdown",
   "metadata": {},
   "source": [
    "- tkinter : 파이썬에서 Tcl/Tk 처리하기 위한 GUI 모듈\n",
    "    - 기본 내장, 객체지향 인터페이스\n",
    "- Tcl : Tool Command Language\n",
    "- Tk : Tool Kit\n",
    "- **절차** tkinter 모듈 import - 메인 윈도우 생성 - 메인 윈도우에 위젯 추가 - 원하는 코드 작성"
   ]
  },
  {
   "cell_type": "markdown",
   "metadata": {},
   "source": [
    "> class tkinter.**Tk**(screenName=None, baseName=None, className='Tk', useTk=1)\n",
    "    Tk 클래스는 인자 없이 인스턴스화됩니다. 이것은 Tk의 최상위 위젯을 만드는데, 일반적으로 응용 프로그램의 메인 창입니다. 인스턴스마다 고유한 Tcl 인터프리터가 연결됩니다.\n",
    "\n",
    "> tkinter.**Tcl**(screenName=None, baseName=None, className='Tk', useTk=0)\n",
    "    Tcl() 함수는 Tk 서브 시스템을 초기화하지 않는다는 것을 제외하고는, Tk 클래스에 의해 만들어지는 것과 비슷한 객체를 만드는 팩토리 함수입니다. 불필요한 최상위 창을 만들고 싶지 않거나 만들 수 없는 (가령 X 서버가 없는 유닉스/리눅스 시스템) 환경에서 Tcl 인터프리터를 구동할 때 가장 유용합니다. Tcl() 객체에 의해 만들어진 객체는 loadtk() 메서드를 호출하여 만들어지는 최상위 창(과 초기화된 Tk 서브 시스템)을 가질 수 있습니다."
   ]
  },
  {
   "cell_type": "markdown",
   "metadata": {},
   "source": [
    "- tkinter는 별도의 설치가 필요x 내장모듈임\n",
    "- widget은 Label, Entry, Text 등 사용자와 상호작용하는 GUI 도구\n",
    "- widget의 옵션은 환경의 변화나 사용자 선택에 따라 변경 가능"
   ]
  },
  {
   "cell_type": "code",
   "execution_count": 2,
   "metadata": {},
   "outputs": [
    {
     "data": {
      "text/plain": [
       "''"
      ]
     },
     "execution_count": 2,
     "metadata": {},
     "output_type": "execute_result"
    }
   ],
   "source": [
    "#윈도우 생성/제목 바꾸기\n",
    "import tkinter\n",
    "win = tkinter.Tk() #윈도우\n",
    "win.title('윈도우생성하기') #창의 타이틀이 바뀜"
   ]
  },
  {
   "cell_type": "code",
   "execution_count": 5,
   "metadata": {},
   "outputs": [],
   "source": [
    "#위젯 추가 및 실행\n",
    "lbl = tkinter.Label(win, text = '안녕 파이썬')\n",
    "lbl.pack() #위치시킴, 패키징\n",
    "lbl2 = tkinter.Label(win, text  = 'hello world', bg = 'red', fg = 'white')\n",
    "lbl2.pack(fill = 'x')\n",
    "win.mainloop() #이벤트 메시지 루프로서 키보드나 Redraw와 같은 다양한 이벤트로부터 오는 메시지를 받고 전달하는 역할"
   ]
  },
  {
   "cell_type": "markdown",
   "metadata": {},
   "source": [
    "> pack() 메서드는 컨테이너 내에서 위젯이 표시되는 위치와 메인 응용 프로그램 윈도우의 크기가 조정될 때 어떻게 동작할지를 제어하는 키워드 옵션/값 쌍으로 호출할 수 있습니다. 여기 몇 가지 예가 있습니다 [참조_공식문서](https://docs.python.org/ko/3/library/tkinter.html)"
   ]
  },
  {
   "cell_type": "markdown",
   "metadata": {},
   "source": [
    "### widget이란\n",
    "- Label, Button, Check button 등 GUI의 핵심 요소\n",
    "- interactive한 처리를 가능하게 함\n",
    "\n",
    "### widget의 종류\n",
    "- Label: 사용자에게 텍스트나 이미지를 제시\n",
    "- Button: 특정 명령의 실행\n",
    "- CheckButton: 선택을 받아들일 때 \n",
    "- Entry: 한 줄 텍스트를 입력받을 때 (여러줄은 Text widget으로)\n",
    "- ListBox: 여러 텍스트 항목을 줄 단위로 표시, 사용자 선택을 유도\n",
    "- RadioButton: 옵션 버튼(여러 항목 제시하고 하나의 선택을 받음)\n",
    "- Message: 텍스트를 표시(Label과 유사, 차이는 자동 래핑(줄바꿈)이 됨)\n",
    "- Scale: 스크롤~값을 선택할 수 있도록\n",
    "- Scrollbar: (다른 위젯과 연동 가능)\n",
    "- Spinbox: 사용자에게 값을 제시하고 업다운 화살표를 통해 선택하도록\n",
    "- Text: 여러 줄 텍스트를 입력 및 편집, Rich Text 기능 제공\n",
    "- Menu: (드롭다운 메뉴 제공)\n",
    "- Menubutton: 버튼식 메뉴\n",
    "- Toplevel: 최상위 창\n",
    "- Frame: 다른 위젯들을 그룹화하는 판넬 역할\n",
    "- Canvas: 그래프와 점 등으로 그림을 그릴 수 있음"
   ]
  },
  {
   "cell_type": "markdown",
   "metadata": {},
   "source": [
    "### widget의 사용\n",
    "\n",
    "w = Label(master, option, ...)\n",
    "- master는 (위젯을 배치할) 부모 윈도우 의미\n",
    "- 입력을 받고 싶을 때는 Label + Entry/Text 위젯의 조합\n"
   ]
  },
  {
   "cell_type": "markdown",
   "metadata": {},
   "source": [
    "### 중요 위젯과 옵션\n",
    "\n",
    "##### 텍스트 관련\n",
    "- text: 레이블에 표시할 문자열\n",
    "- textvariable: 레이블의 문자열 저장변수\n",
    "- anchor: 할당공간 내 표시 위치\n",
    "- justify: 문자열 정렬 방식 (기본값은 center)\n",
    "- wraplength: 자동 줄내림 설정 너비\n",
    "\n",
    "##### 모양 / 색상 관련\n",
    "- width, height\n",
    "- relief: 테두리 모양 (기본 값은 flat)\n",
    "- borderwidth(bd)\n",
    "- background(bg)\n",
    "- foreground(fg)\n",
    "- padx: 가로여백\n",
    "- pady: 세로여백\n",
    "\n",
    "##### 상태 관련\n",
    "- state (attr = normal, active, disabled)\n",
    "- activebackground, activeforeground, disabledforeground\n",
    "\n",
    "##### focus and highlight\n",
    "- takefocus: (T/F)\n",
    "- highlightcolor, highlightbackground, highlightthickness"
   ]
  },
  {
   "cell_type": "markdown",
   "metadata": {},
   "source": [
    "### Entry-highlightcolor"
   ]
  },
  {
   "cell_type": "code",
   "execution_count": 6,
   "metadata": {},
   "outputs": [],
   "source": [
    "#포커스 여부에 따라 하이라이트 컬러 바뀌는 아웃풋\n",
    "import tkinter\n",
    "win = tkinter.Tk() #객체 생성\n",
    "ent1 = tkinter.Entry(win,\n",
    "                      relief='ridge', #테두리모양\n",
    "                      borderwidth=3,\n",
    "                      highlightcolor=\"red\",\n",
    "                      highlightthickness=3,\n",
    "                      highlightbackground='yellow',\n",
    "                      takefocus=True)\n",
    "\n",
    "ent1.pack()\n",
    "\n",
    "ent2 = tkinter.Entry(win,\n",
    "                      relief='ridge',\n",
    "                      borderwidth=3,\n",
    "                      highlightcolor=\"red\",\n",
    "                      highlightthickness=3,\n",
    "                      highlightbackground='yellow',\n",
    "                      takefocus=True)\n",
    "ent2.pack()\n",
    "win.mainloop()"
   ]
  },
  {
   "cell_type": "markdown",
   "metadata": {},
   "source": [
    "### 생성된 widget의 옵션 변경"
   ]
  },
  {
   "cell_type": "code",
   "execution_count": 7,
   "metadata": {},
   "outputs": [],
   "source": [
    "#기존\n",
    "import tkinter\n",
    "win = tkinter.Tk()\n",
    "hello = tkinter.Label(win, text = 'hello')\n",
    "hello.pack()\n",
    "\n",
    "#config() 메서드 이용\n",
    "hello.config(text = '안녕안녕')\n",
    "\n",
    "#key로 옵션 접근\n",
    "hello['text'] = '안녕안녕' #딕셔너리 접근과 같음, 한 번에 하나만 변경 가능한 것이 단점"
   ]
  }
 ],
 "metadata": {
  "kernelspec": {
   "display_name": "Python 3",
   "language": "python",
   "name": "python3"
  },
  "language_info": {
   "codemirror_mode": {
    "name": "ipython",
    "version": 3
   },
   "file_extension": ".py",
   "mimetype": "text/x-python",
   "name": "python",
   "nbconvert_exporter": "python",
   "pygments_lexer": "ipython3",
   "version": "3.7.3"
  }
 },
 "nbformat": 4,
 "nbformat_minor": 2
}

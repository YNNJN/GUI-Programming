{
 "cells": [
  {
   "cell_type": "markdown",
   "metadata": {},
   "source": [
    "**GOAL**\n",
    "    1. tkinter geometry를 이해함\n",
    "    2. widget을 창에 최적 배치함\n",
    "    3. widget 배치의 세부 옵션을 구분하여 지정함\n",
    "**Contents**\n",
    "    1. geometry manager\n",
    "    2. pack과 grid, place\n",
    "    3. widget 배치의 세부 옵션"
   ]
  },
  {
   "cell_type": "markdown",
   "metadata": {},
   "source": [
    "- widget을 창에 배치할 때는 grid() 또는 place()를 사용할 수 있음\n",
    "- widget은 창 또는 Frame, pannel 등에 배치할 수 있음\n"
   ]
  },
  {
   "cell_type": "markdown",
   "metadata": {},
   "source": [
    "### tkinter geometry"
   ]
  },
  {
   "cell_type": "code",
   "execution_count": null,
   "metadata": {},
   "outputs": [],
   "source": [
    "import tkinter\n",
    "\n",
    "win = tkinter.Tk()\n",
    "win.geometry(\"300x300\")\n",
    "\n",
    "\n",
    "hello = tkinter.Label(win, text='Hello World!', relief='ridge')\n",
    "hello.pack(side='bottom')"
   ]
  },
  {
   "cell_type": "markdown",
   "metadata": {},
   "source": [
    "### widget의 배치 (pack, grid, place)\n",
    "\n",
    "\n",
    "### 1. pack()\n",
    "- widget.pack(option=value)\n",
    "- side: 해당 구역 할당/배치\n",
    "- anchor, fill: 할당 공간~\n",
    "- expand: 비할당 공간까지 위젯 확장\n",
    "- ipadx, ipady: 위젯에 대한 x,y 방향 내부 패딩\n",
    "- padx, pady: 외부 패딩\n"
   ]
  },
  {
   "cell_type": "markdown",
   "metadata": {},
   "source": [
    "##### 공간의 구분\n",
    "\n",
    "- hello.pack(side='left') #side는 디폴트가 top\n",
    "- 할당 공간(사용공간 / 미사용공간) / 비할당 공간\n",
    "- anchor를 이용해 할당된 공간 내에서 위치 이동 (w/e/n/s)\n",
    "- ( , , fill=Y) : y의 방향으로 채움 (할당된 공간에서 최대화)"
   ]
  },
  {
   "cell_type": "markdown",
   "metadata": {},
   "source": [
    "### 2. grid()\n",
    "\n",
    "- grid는 모든 frame을 행렬 격자구조 테이블로 처리\n",
    "- cell은 행과 열의 교차점\n",
    "- 여러 셀을 하나의 영역으로 spanning 가능\n",
    "- 지오메트리에 등록해야 화면에 나타남\n",
    "- widget은 grid에서 하나의 셀만 점유하는 것이 일반적\n",
    "\n",
    "##### 옵션\n",
    "\n",
    "- row, column\n",
    "- columnspan, rowspan: 여러 셀 병합\n",
    "- sticky: anchor와 유사, 여분 공간에서 위젯의 배치를 결정 (w/e/n/s)"
   ]
  },
  {
   "cell_type": "code",
   "execution_count": null,
   "metadata": {},
   "outputs": [],
   "source": [
    "#0번 행은 하나의 셀, 1번 행은 세 개 칼럼으로 구성되는 아웃풋\n",
    "from tkinter import *\n",
    "win = Tk()\n",
    "ent = Entry(win).grid(row=0, column=0, columnspan=3)\n",
    "\n",
    "f='Helvetica, 10\n",
    "btn1 = Button(win, font=f, text='1-0', width=4, height=2)\n",
    "btn1.grid(row=1, column=0)\n",
    "btn2 = Button(win, font=f, text='1-1', width=4, height=2)\n",
    "btn2.grid(row=1, column=1)\n",
    "btn3 = Button(win, font=f, text='1-2', width=4, height=2)\n",
    "btn3.grid(row=1, column=2)"
   ]
  },
  {
   "cell_type": "markdown",
   "metadata": {},
   "source": [
    "### 3. place()\n",
    "\n",
    "- place는 위젯의 x,y 좌표값을 지정하여, 정밀한 배치가 가능"
   ]
  },
  {
   "cell_type": "code",
   "execution_count": null,
   "metadata": {},
   "outputs": [],
   "source": [
    "from tkinter import *\n",
    "from tkinter import ttk\n",
    "\n",
    "win = Tk()\n",
    "win.geometry('330x250')\n",
    "\n",
    "b1 = ttk.Button(win, text='불러오기')\n",
    "b1.place(x=10,y=10, width=100)\n",
    "\n",
    "b2 = ttk.Button(win, text='처리하기')\n",
    "b2.place(x=115,y=10, width=100)\n",
    "\n",
    "b3 = ttk.Button(win, text='저장하기')\n",
    "b3.place(x=220,y=10, width=100)\n",
    "\n",
    "tx = Text(win)\n",
    "tx.place(x= 10, y= 45, width=310)\n",
    "\n",
    "win.mainloop()"
   ]
  },
  {
   "cell_type": "markdown",
   "metadata": {},
   "source": [
    "### widget 배치 방법의 비교\n",
    "\n",
    "- place(): 절대 좌표로 위젯의 위치를 정함. 윈도우 크기 변경에 따라 위젯이 변경되지 않아 많이 사용 x\n",
    "- pack(): 위젯들을 부모 위젯에 모두 패킹하여 불필요한 공간을 없앰\n",
    "- grid(): 위젯들을 테이블 레이아웃에 배치함. 지정된 row, column에 위젯을 놓음"
   ]
  },
  {
   "cell_type": "markdown",
   "metadata": {},
   "source": [
    "### 창의 위치와 크기 지정 (geometry() 메서드)\n",
    "\n",
    "- geometry('geometry string')\n",
    "- win.geometry('WxH+X+Y') #띄어쓰기x"
   ]
  },
  {
   "cell_type": "markdown",
   "metadata": {},
   "source": [
    "> 위젯은 지오메트리 관리자로 지오메트리를 지정할 때까지 표시되지 않습니다. 지오메트리 명세를 빠뜨리는 것은 초기에 흔한 실수이고, 위젯을 만들었지만, 아무것도 나타나지 않을 때 놀라게 됩니다. 위젯은 예를 들어 패커의 pack() 메서드가 적용된 후에만 나타납니다. [참조_공식문서](https://docs.python.org/ko/3/library/tkinter.html)"
   ]
  },
  {
   "cell_type": "markdown",
   "metadata": {},
   "source": [
    "### widget의 3D효과 지정 (relief)\n",
    "\n",
    "- FLAT, RAISED, SUNKEN, GROOVE, RIDGE\n",
    "- lbl = Label(win, relief=RIDGE, borderwidth = 3, text = 'hello')"
   ]
  },
  {
   "attachments": {
    "relief.jpg": {
     "image/jpeg": "[encoded data removed]"
    }
   },
   "cell_type": "markdown",
   "metadata": {},
   "source": [
    "![relief.jpg](attachment:relief.jpg)"
   ]
  },
  {
   "cell_type": "markdown",
   "metadata": {},
   "source": [
    "### font 지정\n",
    "\n",
    "- 위젯 생성시 순서에 맞추어 font string 지정\n",
    "- 순서는 아래와 같음\n",
    "    - 1. family 2. size 3. weight 4. slant 5. underline 6. overstrike\n",
    "- lbl = Label(win, font='Helvetica 20 overstrike', text = 'hello')\n",
    "- font 이하를 변수로 지정해서 사용해도 됨 (font = f)"
   ]
  },
  {
   "cell_type": "code",
   "execution_count": null,
   "metadata": {},
   "outputs": [],
   "source": [
    "#tkinter font 모듈을 활용할 수도 있음\n",
    "from tkinter import *\n",
    "import tkinter.font as ft\n",
    "\n",
    "win=Tk()\n",
    "\n",
    "f = ft.Font(family=\"Helvetica\",\n",
    "              size=16,\n",
    "              weight=\"bold\",\n",
    "              slant=\"italic\",\n",
    "              underline=True)\n",
    "\n",
    "lbl = Label(win, text=\"hellohell\", font=f)\n",
    "lbl.pack()\n",
    "\n",
    "win.mainloop()"
   ]
  }
 ],
 "metadata": {
  "kernelspec": {
   "display_name": "Python 3",
   "language": "python",
   "name": "python3"
  },
  "language_info": {
   "codemirror_mode": {
    "name": "ipython",
    "version": 3
   },
   "file_extension": ".py",
   "mimetype": "text/x-python",
   "name": "python",
   "nbconvert_exporter": "python",
   "pygments_lexer": "ipython3",
   "version": "3.7.3"
  }
 },
 "nbformat": 4,
 "nbformat_minor": 2
}

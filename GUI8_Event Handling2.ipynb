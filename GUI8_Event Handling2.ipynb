{
 "cells": [
  {
   "cell_type": "markdown",
   "metadata": {},
   "source": [
    "**GOAL**\n",
    "    1. event handler의 event class를 활용할 수 있음\n",
    "    2. virtual event를 작성할 수 있음\n",
    "    3. 특정 상황에 따라 event를 강제로 발생시킬 수 있음\n",
    "**Contents**\n",
    "    1. listboxselected\n",
    "    2. comboboxselected\n",
    "    3. virtual event\n",
    "    4. event generation"
   ]
  },
  {
   "cell_type": "markdown",
   "metadata": {},
   "source": [
    "### Event binding"
   ]
  },
  {
   "cell_type": "code",
   "execution_count": null,
   "metadata": {},
   "outputs": [],
   "source": [
    "#<<ListboxSelected>>\n",
    "#화살표 위아래로 조작하면 선택되어 레이블에 출력되는 아웃풋\n",
    "from tkinter import *\n",
    "data=['가', '나', '다', '라', '마', '바', '사', '아', '자']\n",
    "\n",
    "def select_one(a):\n",
    "    try:\n",
    "        sel = lst.curselection()\n",
    "        one=lst.get(sel)\n",
    "        lbl.configure(text='선택' + str(sel[0]) + '번...' + one) \n",
    "    except:\n",
    "        return\n",
    "win = Tk()\n",
    "lbl = Label(win, text='      ', bg='yellow', width=20)\n",
    "lbl.pack(side=TOP, anchor=W)\n",
    "lst = Listbox(win)\n",
    "lst.pack(side=LEFT, fill=Y)\n",
    "\n",
    "for dt in data:\n",
    "      lst.insert(END, dt)\n",
    "\n",
    "lst.bind('<<ListboxSelect>>', select_one)\n",
    "win.mainloop()"
   ]
  },
  {
   "cell_type": "code",
   "execution_count": null,
   "metadata": {},
   "outputs": [],
   "source": [
    "#<<ComboboxSelected>>\n",
    "import tkinter as tk\n",
    "from tkinter import ttk\n",
    "\n",
    "data = ('하하건업', '호호전자', '하호건설', '호하기업', '후헤산업', '히호기업')\n",
    "\n",
    "root = tk.Tk()\n",
    "\n",
    "tk.Label(root, text='업체 선택', bd=3).grid(row=0, column=0)\n",
    "var_data = tk.StringVar()\n",
    "cb = ttk.Combobox(root, values=data, justify='center', textvariable=var_data)\n",
    "cb.bind('<<ComboboxSelected>>', lambda ev: lbl.config(text=var_data.get())) #event handler를 따로 떼어서 작성하지 않고, lamba식을 이용해 한 줄로 작성 가능\n",
    "cb.grid(row=0, column=1)\n",
    "cb.current(0)\n",
    "\n",
    "lbl = tk.Label(root, text='Not Selected', width= 15, bg='red', fg='white')\n",
    "lbl.grid(row=0, column=2)\n",
    "\n",
    "root.mainloop()"
   ]
  },
  {
   "cell_type": "code",
   "execution_count": null,
   "metadata": {},
   "outputs": [],
   "source": [
    "#딕셔너리 데이터 활용, 두 개의 콤보를 연동하여 키값으로 밸류값 출력하는 아웃풋\n",
    "from tkinter import *\n",
    "from tkinter import  ttk\n",
    "\n",
    "root = Tk()\n",
    "root.geometry('350x200')\n",
    "\n",
    "def    comb1_selected(e):\n",
    "        v=var.get()\n",
    "        comb2.config(values=data1[v])\n",
    "        var2.set(data1[v][0])\n",
    "\n",
    "data1={'1 반':('홍AAA', '박BBB', '최CCC'),\n",
    "       '2 반':('김DDD', '성EEE', '민FFF'),\n",
    "       '3 반':('박GGG', '오HHH', '홍III')}\n",
    "var = StringVar()\n",
    "comb1 = ttk.Combobox(root, textvariable = var)\n",
    "comb1.config(values = tuple(data1.keys()))\n",
    "comb1.grid(row=0, column=0)\n",
    "var2=StringVar()\n",
    "comb2 = ttk.Combobox(root, textvariable = var2)\n",
    "comb2.grid(row=0, column=1)\n",
    "\n",
    "comb1.bind(\"<<ComboboxSelected>>\", comb1_selected)\n",
    "comb1.current(0) #프로그램 실행시 콤보박스에 미리 값을 띄워놓기 위해 #0번째를 로딩\n",
    "comb1.event_generate( \"<<ComboboxSelected>>\") #이후 event_generate를 통해 이벤트를 강제로 발생시킴\n",
    "root.mainloop()"
   ]
  },
  {
   "cell_type": "markdown",
   "metadata": {},
   "source": [
    "### Virtual event\n",
    "\n",
    "- 개발자 정의형 이벤트 (내부적으로 정의)\n",
    "- 2개 이상의 이벤트를 묶어서 하나의 핸들러에 바인딩 함\n",
    "- 작업순서는 1. 이벤트 정의 2. 이벤트 binding"
   ]
  },
  {
   "cell_type": "code",
   "execution_count": null,
   "metadata": {},
   "outputs": [],
   "source": [
    "#사용자 정의형 이벤트를 바인딩하는 실습\n",
    "#이벤트 정의\n",
    "win.event_add('<<Myevent>>', '<Button-1>', '<Return>')\n",
    "#binding\n",
    "btn.bind('<<Myevent>>', evt_handle)"
   ]
  },
  {
   "cell_type": "markdown",
   "metadata": {},
   "source": [
    "### 강제 이벤트 발생\n",
    "\n",
    "- w.event_generate(event)"
   ]
  },
  {
   "cell_type": "code",
   "execution_count": null,
   "metadata": {},
   "outputs": [],
   "source": [
    "#키보드 화살표 키를 눌렀을 때 데이터가 순환 디스플레이됨\n",
    "#버튼을 눌렀을 때도 데이터가 순환 디스플레이 되는 아웃풋\n",
    "datasource='''김참외, 010-2203-4000, 상계동 437, 어어양행, abc@abc.co.kr\n",
    " 박수박, 010-0900-9988, 동작동 456, 오오전자, bcd@kbx.co.kr\n",
    " 최체리, 010-2200-4499, 마장동 444, 아아양행, afb@kkk.co.kr\n",
    " 이보카, 010-5566-6688, 독산동 222, 이이전자, ccc@ooo.co.kr'''\n",
    "\n",
    "datasource=datasource.split('\\n')\n",
    "for i in range(len(datasource)):\n",
    "     datasource[i] = datasource[i].split(',')\n",
    "print(datasource)     \n",
    "point = 0\n",
    "\n",
    "from tkinter import *\n",
    "win=Tk()\n",
    "\n",
    "def move(point):\n",
    "    data[0]['text'] = datasource[point][0] \n",
    "    data[1]['text'] = datasource[point][1]\n",
    "    data[2]['text'] = datasource[point][2]\n",
    "    data[3]['text'] = datasource[point][3]\n",
    "    data[4]['text'] = datasource[point][4]\n",
    "\n",
    "win.geometry('400x200+500+500')\n",
    "win.title('전화번호부')\n",
    "\n",
    "def inspec_r(e):\n",
    "    global point\n",
    "    ln=len(datasource)\n",
    "    point += 1\n",
    "    if point>= ln: point= ln-1\n",
    "    move(point)\n",
    "    \n",
    "def  inspec_l(e):\n",
    "    global point\n",
    "    point -= 1\n",
    "    if point<= 0: point= 0\n",
    "    move(point)\n",
    "win.bind('<Right>',  inspec_r)\n",
    "win.bind('<Left>',  inspec_l)\n",
    "                          \n",
    "f1 = Frame(win)\n",
    "f1.pack(side = 'right', ipadx = 50)\n",
    "label_texts = ('이름 : ', '전화번호 : ', '주소 : ','소속 : ', '이메일 : ')\n",
    "data = []\n",
    "\n",
    "for r in range(5):\n",
    "    Label(f1, text = label_texts[r], font='굴림 12' ).grid(column = 0, row = r,sticky = E)\n",
    "\n",
    "    data.append(Label(f1, text = '...', font='굴림 12'))\n",
    "    data[r].grid(column = 1, row = r, sticky = W)\n",
    "     \n",
    "btn = Button(win, text ='    >>    ', command = lambda:win.event_generate('<Right>'))\n",
    "btn.pack()\n",
    "\n",
    "move(point)\n",
    "win.mainloop()"
   ]
  },
  {
   "cell_type": "code",
   "execution_count": null,
   "metadata": {},
   "outputs": [],
   "source": [
    "#M1\n",
    "def btn_click():\n",
    "    win.event_generate('<RIGHT>') #'<RIGHT>'는 오른쪽 화살표키 이벤트 의미\n",
    "btn = Button(win, text = '>>', command = btn_click)\n",
    "#M2\n",
    "btn = Button(win, text = '>>', command = lambda:win.event_generate('<RIGHT>'))\n",
    "#M3\n",
    "def inspec_r(e=''): #인자값 초기화하여 수정할 것\n",
    "    btn = Button(win, text = '>>', command = inspec_r)"
   ]
  },
  {
   "cell_type": "markdown",
   "metadata": {},
   "source": [
    "### tag에 binding\n",
    "\n",
    "- Text widget\n",
    "    - t.tag_bind(tagname, eventType, handler) 메서드\n",
    "- tag 메서드 review\n",
    "    - tag_add(tagname, idx1, idx2 = None) #글자의 시작점과 끝점\n",
    "    - tag_config(tagname, 옵션)\n",
    "    - tag_bind(tagname, 이벤트타입, 함수)"
   ]
  },
  {
   "cell_type": "markdown",
   "metadata": {},
   "source": [
    "### 정리\n",
    "\n",
    "- Combobox는 Entry위젯과 Listbox 위젯의 콤비네이션임\n",
    "- 코드 상에서 특정 이벤트를 강제로 발생시킬 때는 event_generate()를 사용함\n",
    "- event_add() 메서드를 사용하면 미리 정의되어있는 이벤트 외에도 사용자 저으이 이벤트를 추가할 수 있음"
   ]
  }
 ],
 "metadata": {
  "kernelspec": {
   "display_name": "Python 3",
   "language": "python",
   "name": "python3"
  },
  "language_info": {
   "codemirror_mode": {
    "name": "ipython",
    "version": 3
   },
   "file_extension": ".py",
   "mimetype": "text/x-python",
   "name": "python",
   "nbconvert_exporter": "python",
   "pygments_lexer": "ipython3",
   "version": "3.7.3"
  }
 },
 "nbformat": 4,
 "nbformat_minor": 2
}

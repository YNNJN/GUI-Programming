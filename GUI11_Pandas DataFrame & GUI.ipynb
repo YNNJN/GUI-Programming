{
 "cells": [
  {
   "cell_type": "markdown",
   "metadata": {},
   "source": [
    "**GOAL**\n",
    "    1. DataFrame의 다양한 메서드를 이용하여 연산 및 조작할 수 있음\n",
    "    2. indexing과 slicing을 통해 특정 요소를 참조 및 세팅할 수 있음\n",
    "    3. 처리결과를 GUI와 연동하여 출력할 수 있음\n",
    "**Contents**\n",
    "    1. DataFrame의 연산\n",
    "    2. Column 추가, 명칭 변경 등\n",
    "    3. indexing과 slicing/ 특정 요소의 참조 및 세팅\n",
    "    4. DataFrame 창에 출력하기"
   ]
  },
  {
   "cell_type": "markdown",
   "metadata": {},
   "source": [
    "### pandas DataFrame\n",
    "\n",
    "#### row, column 처리(indexing, slicing)\n",
    "\n",
    "- index를 이용한 row 선택\n",
    "    - .loc[idx, col]\n",
    "- 위치값을 이용한 선택\n",
    "    - iloc[r,c]"
   ]
  },
  {
   "cell_type": "code",
   "execution_count": null,
   "metadata": {},
   "outputs": [],
   "source": [
    "df.loc[4, '국어']\n",
    "df.loc[4, ['국어', '영어', '정보']]\n",
    "df.loc[2:4, :] #:는 모든 의미\n",
    "       \n",
    "#아래는 모두 동치\n",
    "df.loc[4]\n",
    "df.loc[4, ]\n",
    "df.loc[4,:]\n",
    "df.iloc[3]\n",
    "df.iloc[3, ]"
   ]
  },
  {
   "cell_type": "code",
   "execution_count": null,
   "metadata": {},
   "outputs": [],
   "source": [
    "#전체 총점(세로 합계) 구하기\n",
    "#numeric_only, 연산에 참여하지 않는(문자열) 컬럼은 NaN(결측값,Not a Numeric)으로 표시됨\n",
    "# df.loc['전체총점'] = df.sum(axis = 0) #행을 기준으로 세로 합을 구함\n",
    "df.loc['전체총점'] = df.sum(axis = 0, numeric_only=True)\n",
    "df"
   ]
  },
  {
   "cell_type": "code",
   "execution_count": null,
   "metadata": {},
   "outputs": [],
   "source": [
    "#연산에 참가할 컬럼 명 모두 적어주는 방법도 있음\n",
    "df.loc['전체총점', ['국어', '영어', '정보', '합계']] = df.sum(axis = 0)\n",
    "df"
   ]
  },
  {
   "cell_type": "markdown",
   "metadata": {},
   "source": [
    "#### NaN값 바꾸기\n",
    "\n",
    "- isna()\n",
    "- notna()\n",
    "- fillna()\n",
    "- dropna()"
   ]
  },
  {
   "cell_type": "code",
   "execution_count": null,
   "metadata": {},
   "outputs": [],
   "source": [
    "df.fillna('-', inplace = True)\n",
    "df"
   ]
  },
  {
   "cell_type": "markdown",
   "metadata": {},
   "source": [
    "### DataFrame과 GUI 연동\n",
    "\n",
    "- 리스트를 창에 출력\n",
    "- pandas를 창에 출력(리스트 출력과 동일한 원리)"
   ]
  },
  {
   "cell_type": "code",
   "execution_count": null,
   "metadata": {},
   "outputs": [],
   "source": [
    "#List 출력\n",
    "def display_list(d_frame):\n",
    "    rows = len(d_frame)\n",
    "    cols = len(d_frame[0])\n",
    "    \n",
    "    for rr in range(rows):\n",
    "        for cc in range(cols):\n",
    "            e = tk.Entry(win, width = 15)\n",
    "            e.insert(0, d_frame[rr][cc])\n",
    "            e.grid(row = rr, column = cc)"
   ]
  },
  {
   "cell_type": "code",
   "execution_count": null,
   "metadata": {},
   "outputs": [],
   "source": [
    "#pandas 출력\n",
    "def display_dataframe(d_frame): #d_frame을 인수로 넘겨받아 행과 열을 출력하는 함수\n",
    "    rows, cols = df.shape #list에서 len으로 처리한 것과 차이가 있음\n",
    "    \n",
    "    for rr in range(rows):\n",
    "        for cc in range(cols):\n",
    "            e = tk.Entry(win, width = 15)\n",
    "            e.insert(0, d_frame.iloc[rr,cc]) #list에서 이차원 배열로 표기한 것과 차이가 있음\n",
    "            e.grid(row = rr, column = cc)"
   ]
  },
  {
   "cell_type": "markdown",
   "metadata": {},
   "source": [
    "#### 제목 출력루틴 (추가)\n",
    "\n",
    "- 전체 표는 '컬럼명(row 0 영역)' + 'index(column 1 영역)' + '데이터(이미 출력함)'로 구성됨"
   ]
  },
  {
   "cell_type": "code",
   "execution_count": 2,
   "metadata": {},
   "outputs": [],
   "source": [
    "def display_title(d_frame): #제목이 로드됨\n",
    "    title = list(d_frame.columns)\n",
    "    e = tk.Entry(win, text = ' ', width = 10, bg = 'gray', fg = 'white')\n",
    "    for i in range(len(title)):\n",
    "        e = tk.Entry(win, width = 10, bg = 'gray', fg = 'white')\n",
    "        e.insert(0, title[i])\n",
    "        e.grid(row = 0, column = i+1) #제일 첫 칸 \\ 보정"
   ]
  },
  {
   "cell_type": "markdown",
   "metadata": {},
   "source": [
    "#### 데이터 출력루틴 (수정)"
   ]
  },
  {
   "cell_type": "code",
   "execution_count": null,
   "metadata": {},
   "outputs": [],
   "source": [
    "def display_pandas(d_frame):\n",
    "    rows, cols = d_frrame.shape\n",
    "    for r in range(rows):\n",
    "        e = tk.Entry(win, bg = 'gray', fg = 'white', width = 10)\n",
    "        e.insert(0, d_frame.index[r])\n",
    "        e.grid(row = r+1, column = 0)\n",
    "        \n",
    "        for c in range(cols):\n",
    "            e = tk.Entry(win, width = 10)\n",
    "            e.insert(0, d_frame.iloc[r,c])\n",
    "            e.grid(row = r+1, column = c+1)"
   ]
  },
  {
   "cell_type": "code",
   "execution_count": null,
   "metadata": {},
   "outputs": [],
   "source": [
    "#tips.csv를 pandas로 읽어 출력하는 아웃풋\n",
    "import pandas as pd\n",
    "import tkinter as tk\n",
    "def read_data():\n",
    "    global data, df, pd\n",
    "    df = pd.read_csv('tips.csv')\n",
    "    df = df.apply(pd.to_numeric, errors = 'ignore')\n",
    "\n",
    "def display_title( d_frame):\n",
    "    title=list(d_frame.columns)\n",
    "    e=tk.Entry(win, text = ' ', width = 10, bg = 'gray', fg = 'white')\n",
    "    for i in range(len(title)):\n",
    "        e = tk.Entry(win, width = 10, bg = 'gray', fg = 'white')\n",
    "        e.insert(0, title[i])\n",
    "        e.grid(row = 0, column = i+1) \n",
    "\n",
    "def display_pandas(d_frame):\n",
    "    rows, cols = d_frame.shape\n",
    "     \n",
    "    for r in range(rows):\n",
    "        e = tk.Entry(win, bg = 'gray',fg = 'white', width=10)\n",
    "        e.insert(0, d_frame.index[r])\n",
    "        e.grid(row = r+1, column= 0)\n",
    "\n",
    "        for c in range(cols):\n",
    "            e = tk.Entry(win, width = 10)\n",
    "            e.insert(0, d_frame.iloc[r,c])\n",
    "            e.grid(row = r+1, column = c+1)\n",
    "\n",
    "win = tk.Tk()\n",
    "\n",
    "read_data()\n",
    "win.title('처리결과')\n",
    "display_title(df)\n",
    "display_pandas(df)\n",
    "\n",
    "win.mainloop()"
   ]
  },
  {
   "cell_type": "markdown",
   "metadata": {},
   "source": [
    "### 정리\n",
    "\n",
    "- DataFrame은 행렬구조이므로 중첩 for문을 사용하여 GUI에 적재할 수 있음\n",
    "- DataFrame에서 index를 이용해 row를 선택할 때는 loc[]을 사용함\n",
    "- 위치값을 이용해 특정데이터 선택 시 iloc[]을 사용함(DataFrame.iloc[row, col])\n",
    "- isna() 메서드를 사용하여, 그 값이 NaN인지 알 수 있음"
   ]
  }
 ],
 "metadata": {
  "kernelspec": {
   "display_name": "Python 3",
   "language": "python",
   "name": "python3"
  },
  "language_info": {
   "codemirror_mode": {
    "name": "ipython",
    "version": 3
   },
   "file_extension": ".py",
   "mimetype": "text/x-python",
   "name": "python",
   "nbconvert_exporter": "python",
   "pygments_lexer": "ipython3",
   "version": "3.7.3"
  }
 },
 "nbformat": 4,
 "nbformat_minor": 2
}

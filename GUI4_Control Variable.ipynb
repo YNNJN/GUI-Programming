{
 "cells": [
  {
   "cell_type": "markdown",
   "metadata": {},
   "source": [
    "**GOAL**\n",
    "    1. control variable과 widget의 내부 연동 및 동작 원리를 이해할 수 있음\n",
    "    2. control variable을 활용할 수 있음\n",
    "**Contents**\n",
    "    1. control variable 개요\n",
    "    2. control variable type\n",
    "    3. 활용방법(데이터 getting & setting)"
   ]
  },
  {
   "cell_type": "markdown",
   "metadata": {},
   "source": [
    "### 제어변수 개념(~variable)\n",
    "\n",
    "- 위젯과 연결되어 값을 반영할 특수 객체\n",
    "    - 제어변수는 위젯과 연결되어 값을 넣거나 참조하는 데 사용함\n",
    "        - 체크버튼은 제어변수를 사용해 버튼의 현재 상태를 유지함(on/off)\n",
    "        - 라디오버튼은 여러 개가 하나의 제어변수를 공유하여 서로간 토글됨\n",
    "        - 엔트리는 제어변수가 출력되는 문자열을 관장함\n",
    "        - 버튼은 제어변수가 표시되는 문자열을 관장함\n",
    "- type\n",
    "    - IntVar()\n",
    "    - StringVar()\n",
    "    - BooleanVar()\n",
    "    - DoubleVar()\n",
    "- 메소드: 위젯에 값을 넣거나 조회할 수 있음\n",
    "    - 제어변수의 .set(data)메서드를 이용해 data 값을 위젯에 업데이트 가능\n",
    "    - .get()메서드를 통해 값을 꺼내올 수 있음"
   ]
  },
  {
   "cell_type": "markdown",
   "metadata": {},
   "source": [
    "### Menubutton\n",
    "\n",
    "- w = Menubutton(master, option, ...)"
   ]
  },
  {
   "cell_type": "code",
   "execution_count": null,
   "metadata": {},
   "outputs": [],
   "source": [
    "from tkinter import *\n",
    "def selected():\n",
    "    k=v.get()\n",
    "    if k == 1:\n",
    "        print('복사하기를 선택')\n",
    "    elif k == 2:\n",
    "        print('붙여넣기를 선택')\n",
    "    else:\n",
    "        print('지우기를 선택')\n",
    "win = Tk()\n",
    "mb = Menubutton(win, text = '편집', relief = RAISED) #Menu의 상위개념\n",
    "mb.grid()\n",
    "smenu = Menu(mb)\n",
    "mb['menu'] = smenu\n",
    "#sub\n",
    "v=IntVar() #background에서 값을 제어하는 역할을 하는 제어변수\n",
    "smenu.add_radiobutton(label = '복사하기', variable=v, value=1, command=selected)\n",
    "smenu.add_radiobutton(label = '붙여넣기', variable=v, value=1, command=selected)\n",
    "smenu.add_radiobutton(label = '지우기', variable=v, value=1, command=selected)\n",
    "win.mainloop()"
   ]
  },
  {
   "cell_type": "markdown",
   "metadata": {},
   "source": [
    "### checkbutton\n",
    "\n",
    "- w = Check(master, option=value, ...)\n",
    "- 사용자 선택사항을 체크하는 위젯\n",
    "\n",
    "- 옵션은 다음과 같음\n",
    "    - indicatoron: 일반 동작은 1, 0으로 하면 푸시버튼식이 됨\n",
    "    - textvariable: 표시되는 문자열 관리 제어변수\n",
    "    - variable: 선택과 비선택을 관리 (onvalue, offvalue의 값을 기억하는 제어변수)\n",
    "    - onvalue, offvalue: 특정 값으로 변경시킬 때 사용. 디폴트는 1,0, 문자열과 같은 다른 값을 지정할 수도 있음\n",
    "    - command: 체크버튼 상태 변경 시 콜 할 함수를 지정함\n",
    "- 메서드는 다음과 같음\n",
    "    - deselect(): off 상태로 함\n",
    "    - select(): on 상태로 함\n",
    "    - invoke(): 누른 효과(콜백)\n",
    "    - toggle()"
   ]
  },
  {
   "cell_type": "code",
   "execution_count": null,
   "metadata": {},
   "outputs": [],
   "source": [
    "from tkinter import *\n",
    "def inspect_check(): #누를 때 콜백하는 함수\n",
    "    print('숙박여부', var1.get())\n",
    "    print('조식여부', var2.get())\n",
    "    print('가이드 투어여부', var3.get())\n",
    "win = Tk()\n",
    "win.geometry('200x150')\n",
    "fra = LabelFrame(win, text='여행상품선택', labelanchor='nw', font='굴림 10 bold')\n",
    "fra.pack(fill='both',padx=20, ipady=10)\n",
    "var1 = BooleanVar() #현재는 불리언 값으로 받아서 체크 상태를 온오프 함\n",
    "var2 = BooleanVar() #var의 값을 가격으로 주고싶다면 제어변수의 타입을 IntVar()로 변경하면 됨\n",
    "var3 = BooleanVar()\n",
    "chk1 = Checkbutton(fra, text='숙 박',variable=var1, command=inspect_check) #그리고 var1에 값 지정\n",
    "chk1.pack()\n",
    "chk2 = Checkbutton(fra, text='조 식',variable=var2, command=inspect_check)\n",
    "chk2.pack()\n",
    "chk3 = Checkbutton(fra, text='투 어',variable=var3, command=inspect_check)\n",
    "chk3.pack()\n",
    "btn = Button(fra,text='선택완료', command= inspect_check)\n",
    "btn.pack()\n",
    "mainloop()"
   ]
  },
  {
   "cell_type": "markdown",
   "metadata": {},
   "source": [
    "### Scale\n",
    "\n",
    "- w = Scale(master, option, ...)\n",
    "- 특정 범위 내에서 사용자의 가시적 조작을 통해 값을 선택할 수 있도록 하는 위젯\n",
    "\n",
    "- 옵션은 다음과 같음\n",
    "    - from_, to: 값의 범위를 지정함\n",
    "    - resolution: 간극의 값\n",
    "    - tickinterval: 표시 간격\n",
    "    - jump: 0(마우스를 끌을 때마다 콜백), 1(끌다가 놓을 때 콜백)\n",
    "    - orient: HORIZONTAL, VERTICAL\n",
    "    - variable: 제어변수"
   ]
  },
  {
   "cell_type": "code",
   "execution_count": null,
   "metadata": {},
   "outputs": [],
   "source": [
    "#이벤트 발생\n",
    "from tkinter import *\n",
    "win = Tk()\n",
    "win.geometry('300x200')\n",
    "v=IntVar()\n",
    "\n",
    "def value_change(val):\n",
    "    print('스케일바', val)\n",
    "\n",
    "s2 = Scale(win, from_=10, to=100, orient=HORIZONTAL,\n",
    "           command= value_change, tickinterval=10,\n",
    "           variable=v)\n",
    "s2.pack(fill=X)\n",
    "win.mainloop()"
   ]
  },
  {
   "cell_type": "code",
   "execution_count": null,
   "metadata": {},
   "outputs": [],
   "source": [
    "#이벤트가 발생했을 때 제어변수로 제어하는 것까지\n",
    "from tkinter import *\n",
    "win = Tk()\n",
    "win.geometry('300x200')\n",
    "v=IntVar()\n",
    "\n",
    "def value_change(val):\n",
    "    print(\"스케일바\", val)\n",
    "\n",
    "s2 = Scale(win, from_=10, to=100, orient=HORIZONTAL,\n",
    "           command= value_change, tickinterval=10,\n",
    "           variable=v)\n",
    "s2.pack(fill=X)\n",
    "def select_click():\n",
    "    print(v.get())\n",
    "\n",
    "btn=Button(win, text='선택', command=select_click)\n",
    "btn.pack()\n",
    "\n",
    "win.mainloop()"
   ]
  },
  {
   "cell_type": "code",
   "execution_count": null,
   "metadata": {},
   "outputs": [],
   "source": [
    "#증가값을 가져와서 폰트 사이즈를 바꿔주는 아웃풋\n",
    "from tkinter import *\n",
    "\n",
    "def font_control(ev):\n",
    "      label.config(font='나눔고딕 %d bold'%v.get())\n",
    "\n",
    "win = Tk()\n",
    "v=IntVar()\n",
    "win.geometry('350x150')\n",
    "label = Label(win, text='안녕 스케일바')\n",
    "label.pack(fill=Y, expand=1)\n",
    "sc = Scale(win, from_=10, to=40, orient=HORIZONTAL,variable= v, command=font_control)\n",
    "v.set(14)\n",
    "sc.pack(fill=X, expand=1)\n",
    "qbtn = Button(win, text='끝내기', command=win.quit,  font= '나눔고딕 10 bold')\n",
    "qbtn.pack()\n",
    "mainloop()"
   ]
  },
  {
   "cell_type": "markdown",
   "metadata": {},
   "source": [
    "### ttk\n",
    "\n",
    "- ttk는 themed tk widget으로 색상 등 비주얼을 개선한 것\n",
    "- 매킨토시 GUI 수준으로 보임\n",
    "\n",
    "### ttk.Combobox\n",
    "\n",
    "- w = ttk.Combobox(master, option, ...)\n",
    "- 엔트리위젯과 드롭다운 메뉴의 콤비네이션 위젯\n",
    "- 화살표를 눌러 펼쳐진 값을 선택하거나 직접 값을 입력할 수 있음\n",
    "- 옵션은 다음과 같음\n",
    "    - validate: 유효성 검사 요청\n",
    "    - validatecommand: 유효성 검사 함수 지정\n",
    "    - values: 드롭다운 리스트에 펼쳐질 값들\n",
    "    - 이외에 exportselection, height, postcommand, textvariable, xscrollcommand 등"
   ]
  },
  {
   "cell_type": "code",
   "execution_count": null,
   "metadata": {},
   "outputs": [],
   "source": [
    "#tk와 ttk 동시 사용시 권장되는 import 방식\n",
    "import tkinter as tk\n",
    "from tkinter import\n",
    "b1 = tk.Button(...) #표준 tk 버튼 사용\n",
    "b2 = ttk.Button(...) #ttk button 사용"
   ]
  },
  {
   "cell_type": "markdown",
   "metadata": {},
   "source": [
    "### Entry\n",
    "\n",
    "- w = Entry(master, option=value, ...)\n",
    "- 사용자로부터 단일 줄 문자열 입력을 받는 위젯\n",
    "    - 텍스트 줄을 여러 줄 활용할 경우 **텍스트 위젯** 사용\n",
    "    - 사용자가 수정할 수 없는 텍스트 줄은 **레이블 위젯** 사용\n",
    "- 옵션은 다음과 같음\n",
    "    - validate: 유효값 입증 옵션\n",
    "    - exportselection: 0으로 지정하면 선택 문자열 클립보드 전송을 방지\n",
    "    - show: 입력 시 보여질 암호문자(ex. '*')\n",
    "    - 이외에 삽입커서 관련 insertbackground, insertwidth 옵션이 있음\n",
    "- 메소드는 다음과 같음\n",
    "    - .insert(index,string): 지정된 위치에 문자열을 추가\n",
    "    - .delete(start, end): 선택 범위 문자열 삭제\n",
    "    - .get(): 문자값 가져옴\n",
    "        - 1. 제어변수로 가져옴 2. 엔트리 위젯을 통해 직접 가져옴, 다른 두 방법도 기억\n",
    "    - .icursor(index): 지정된 위치에 키보드 커서 설정\n",
    "    - .select_adjust(index): 지정된 위치까지 문자열 선택 설정\n",
    "    - .select_range(start, end)\n",
    "    - .select_to(index): 커서부터 지정된 위치까지 선택 설정 (드래그시 파랗게 선택되는)\n",
    "    - .select_from(index): 지정 위치부터 커서까지 선택 설정\n",
    "    - .selectclear()"
   ]
  },
  {
   "cell_type": "code",
   "execution_count": null,
   "metadata": {},
   "outputs": [],
   "source": [
    "#이름을 입력하고 완료 버튼을 누르면 출력해주는 아웃풋\n",
    "from tkinter import *\n",
    "from tkinter import messagebox\n",
    "\n",
    "win = Tk()\n",
    "v=StringVar()\n",
    "def ok_click():\n",
    "    na=v.get()\n",
    "    lbl2.configure(text='당신의 이름은~~~~~~' + na + '입니다')\n",
    "    messagebox.showinfo('이름', na)\n",
    "\n",
    "lbl=Label(win, text='이 름 : ')\n",
    "lbl.grid(row=0, column=0)\n",
    "txt=Entry(win, bg='yellow', textvariable=v)\n",
    "txt.grid(row=0, column=1)\n",
    "\n",
    "btn=Button(win, text='완 료', command=ok_click)\n",
    "btn.grid(row=0, column=2)\n",
    "\n",
    "lbl2=Label(win, text='당신의 이름은.....')\n",
    "lbl2.grid(row=2,column=0, columnspan=2, sticky=W)\n",
    "win.mainloop()"
   ]
  },
  {
   "cell_type": "markdown",
   "metadata": {},
   "source": [
    "### Radiobutton\n",
    "\n",
    "- w = Radiobutton(master, option, ...)\n",
    "- 사용자에게 여러 선택 항목을 제시하고 사용자로부터 하나의 선택을 받는 버튼을 구현함\n",
    "- 관련된 라디오버튼에 하나의 변수를 연결하여 관리\n",
    "- frame, pannel 등은 라디오 버튼의 그룹을 형성할 때 중요하게 역할함"
   ]
  },
  {
   "cell_type": "code",
   "execution_count": null,
   "metadata": {},
   "outputs": [],
   "source": [
    "#station을 선택하고, 선택한 것을 기억하여 출력하는 아웃풋\n",
    "from tkinter import *\n",
    "def change(): #콜백함수\n",
    "    print ('Station = ' , var.get())\n",
    "    \n",
    "win = Tk()\n",
    "stations = '대구' , '부산' , '광주' , '여수' #튜플로 저장이 됨\n",
    "f = Frame(relief=RAISED , borderwidth=5)\n",
    "var = StringVar()\n",
    "for station in stations:\n",
    "    radio = Radiobutton(f,\n",
    "                        text=station,\n",
    "                        variable=var,\n",
    "                        value=station, #실제 갖게되는 값을 지정\n",
    "                        command=change)\n",
    "    radio.pack(side=TOP)\n",
    "f.pack(pady=10)\n",
    "\n",
    "var.set('대구') \n",
    "win.mainloop()"
   ]
  },
  {
   "cell_type": "code",
   "execution_count": null,
   "metadata": {},
   "outputs": [],
   "source": [
    "#enumerate를 이용해 역과 교통비를 함께 저장하는 아웃풋\n",
    "from tkinter import *\n",
    "def change(): #콜백함수\n",
    "    print ('Station = ' , charge[var.get()])\n",
    "    \n",
    "win = Tk()\n",
    "stations = '대구' , '부산' , '광주' , '여수'\n",
    "charge = [35000, 40000, 40000, 50000]\n",
    "f = Frame(relief=RAISED , borderwidth=5)\n",
    "var = IntVar()\n",
    "for i, station in enumerate(stations):\n",
    "    radio = Radiobutton(f,\n",
    "                        text=station,\n",
    "                        variable=var,\n",
    "                        value=i, #실제 갖게되는 값을 지정\n",
    "                        command=change)\n",
    "    radio.pack(side=TOP)\n",
    "f.pack(pady=10)\n",
    "\n",
    "var.set('대구') \n",
    "win.mainloop()"
   ]
  },
  {
   "cell_type": "markdown",
   "metadata": {},
   "source": [
    "### 정리\n",
    "\n",
    "- control variable(제어변수)는 widget과 연결되어 값을 넣거나 참조할 때 사용함. 즉 제어변수는 widget과 연결되어 값을 반영하는 특수객체를 의미함\n",
    "- frame이나 pannel widget은 다른 widget의 컨테이너 역할로 사용함"
   ]
  }
 ],
 "metadata": {
  "kernelspec": {
   "display_name": "Python 3",
   "language": "python",
   "name": "python3"
  },
  "language_info": {
   "codemirror_mode": {
    "name": "ipython",
    "version": 3
   },
   "file_extension": ".py",
   "mimetype": "text/x-python",
   "name": "python",
   "nbconvert_exporter": "python",
   "pygments_lexer": "ipython3",
   "version": "3.7.3"
  }
 },
 "nbformat": 4,
 "nbformat_minor": 2
}
